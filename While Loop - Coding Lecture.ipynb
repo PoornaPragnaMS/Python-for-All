{
 "cells": [
  {
   "cell_type": "code",
   "execution_count": 1,
   "metadata": {
    "collapsed": false
   },
   "outputs": [
    {
     "name": "stdout",
     "output_type": "stream",
     "text": [
      "Hey! Current value of a is 0\n",
      "Hey! Current value of a is 1\n",
      "Hey! Current value of a is 2\n",
      "Hey! Current value of a is 3\n",
      "Hey! Current value of a is 4\n",
      "Hey! Current value of a is 5\n",
      "Hey! Current value of a is 6\n",
      "Hey! Current value of a is 7\n",
      "Hey! Current value of a is 8\n",
      "Hey! Current value of a is 9\n"
     ]
    }
   ],
   "source": [
    "a = 0\n",
    "\n",
    "while a < 10:\n",
    "    print('Hey! Current value of a is {}'.format(a))\n",
    "    a+=1"
   ]
  },
  {
   "cell_type": "code",
   "execution_count": 3,
   "metadata": {
    "collapsed": false
   },
   "outputs": [
    {
     "name": "stdout",
     "output_type": "stream",
     "text": [
      "Hey! Current value of a is 0\n",
      "Hey! Current value of a is 1\n",
      "Hey! Current value of a is 2\n",
      "Hey! Current value of a is 3\n",
      "Hey! Current value of a is 4\n",
      "Hey! Current value of a is 5\n",
      "Hey! Current value of a is 6\n",
      "Hey! Current value of a is 7\n",
      "Hey! Current value of a is 8\n",
      "Hey! Current value of a is 9\n",
      "\n",
      "While loop got terminated!\n"
     ]
    }
   ],
   "source": [
    "a = 0\n",
    "\n",
    "while a < 10:\n",
    "    print('Hey! Current value of a is {}'.format(a))\n",
    "    a+=1\n",
    "else:\n",
    "    print('\\nWhile loop got terminated!')"
   ]
  },
  {
   "cell_type": "code",
   "execution_count": 10,
   "metadata": {
    "collapsed": false
   },
   "outputs": [
    {
     "name": "stdout",
     "output_type": "stream",
     "text": [
      "Hey current value 2 is an even number\n",
      "Hey current value 4 is an even number\n",
      "Hey current value 6 is an even number\n",
      "Hey current value 8 is an even number\n",
      "Hey current value 10 is an even number\n"
     ]
    }
   ],
   "source": [
    "a = 0\n",
    "\n",
    "while a < 10:\n",
    "    #print('Hey! Current value of a is {}'.format(a))\n",
    "    a+=1\n",
    "    \n",
    "    if a%2 == 0:\n",
    "        print('Hey current value {} is an even number'.format(a))\n",
    "    else:\n",
    "        continue\n",
    "        print('Hey! this is an odd number')\n",
    "        \n",
    "    "
   ]
  },
  {
   "cell_type": "code",
   "execution_count": 11,
   "metadata": {
    "collapsed": false
   },
   "outputs": [
    {
     "name": "stdout",
     "output_type": "stream",
     "text": [
      "Hey current value 2 is an even number\n",
      "Hey current value 4 is an even number\n",
      "Hey! we reached mid value 5, thus going to break the loop\n"
     ]
    }
   ],
   "source": [
    "a = 0\n",
    "\n",
    "while a < 10:\n",
    "    #print('Hey! Current value of a is {}'.format(a))\n",
    "    a+=1\n",
    "    \n",
    "    if a%2 == 0:\n",
    "        print('Hey current value {} is an even number'.format(a))\n",
    "    elif a == 5:\n",
    "        print('Hey! we reached mid value {}, thus going to break the loop'.format(a))\n",
    "        break\n",
    "    else:\n",
    "        continue\n",
    "        print('Hey! this is an odd number')\n",
    "        \n",
    "    "
   ]
  },
  {
   "cell_type": "code",
   "execution_count": null,
   "metadata": {
    "collapsed": true
   },
   "outputs": [],
   "source": [
    "# Do not run this code, it runs infinitely\n",
    "\n",
    "while True:\n",
    "    print('Infinite Loop')"
   ]
  }
 ],
 "metadata": {
  "kernelspec": {
   "display_name": "Python 3",
   "language": "python",
   "name": "python3"
  },
  "language_info": {
   "codemirror_mode": {
    "name": "ipython",
    "version": 3
   },
   "file_extension": ".py",
   "mimetype": "text/x-python",
   "name": "python",
   "nbconvert_exporter": "python",
   "pygments_lexer": "ipython3",
   "version": "3.6.0"
  }
 },
 "nbformat": 4,
 "nbformat_minor": 2
}
