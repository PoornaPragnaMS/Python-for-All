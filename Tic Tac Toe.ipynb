{
 "cells": [
  {
   "cell_type": "code",
   "execution_count": 1,
   "metadata": {
    "collapsed": false
   },
   "outputs": [
    {
     "name": "stdout",
     "output_type": "stream",
     "text": [
      "\n",
      "-------------\n",
      "| 1 | 2 | 3 | \n",
      "-------------\n",
      "| 4 | 5 | 6 | \n",
      "-------------\n",
      "| 7 | 8 | 9 | \n",
      "-------------\n",
      "Player 1:\n",
      ">>Make a move by selecting one of the numbers shown in the board q\n",
      "please enter a valid field\n",
      "\n",
      "-------------\n",
      "| 1 | 2 | 3 | \n",
      "-------------\n",
      "| 4 | 5 | 6 | \n",
      "-------------\n",
      "| 7 | 8 | 9 | \n",
      "-------------\n",
      "Player 1:\n",
      ">>Make a move by selecting one of the numbers shown in the board 1\n",
      "\n",
      "-------------\n",
      "| X | 2 | 3 | \n",
      "-------------\n",
      "| 4 | 5 | 6 | \n",
      "-------------\n",
      "| 7 | 8 | 9 | \n",
      "-------------\n",
      "Player 2:\n",
      ">>Make a move by selecting one of the numbers shown in the board 2\n",
      "\n",
      "-------------\n",
      "| X | O | 3 | \n",
      "-------------\n",
      "| 4 | 5 | 6 | \n",
      "-------------\n",
      "| 7 | 8 | 9 | \n",
      "-------------\n",
      "Player 1:\n",
      ">>Make a move by selecting one of the numbers shown in the board 3\n",
      "\n",
      "-------------\n",
      "| X | O | X | \n",
      "-------------\n",
      "| 4 | 5 | 6 | \n",
      "-------------\n",
      "| 7 | 8 | 9 | \n",
      "-------------\n",
      "Player 2:\n",
      ">>Make a move by selecting one of the numbers shown in the board 4\n",
      "\n",
      "-------------\n",
      "| X | O | X | \n",
      "-------------\n",
      "| O | 5 | 6 | \n",
      "-------------\n",
      "| 7 | 8 | 9 | \n",
      "-------------\n",
      "Player 1:\n",
      ">>Make a move by selecting one of the numbers shown in the board 5\n",
      "\n",
      "-------------\n",
      "| X | O | X | \n",
      "-------------\n",
      "| O | X | 6 | \n",
      "-------------\n",
      "| 7 | 8 | 9 | \n",
      "-------------\n",
      "Player 2:\n",
      ">>Make a move by selecting one of the numbers shown in the board 6\n",
      "\n",
      "-------------\n",
      "| X | O | X | \n",
      "-------------\n",
      "| O | X | O | \n",
      "-------------\n",
      "| 7 | 8 | 9 | \n",
      "-------------\n",
      "Player 1:\n",
      ">>Make a move by selecting one of the numbers shown in the board 7\n",
      "\n",
      "-------------\n",
      "| X | O | X | \n",
      "-------------\n",
      "| O | X | O | \n",
      "-------------\n",
      "| X | 8 | 9 | \n",
      "-------------\n",
      "Player 1 wins!\n",
      "\n"
     ]
    }
   ],
   "source": [
    "\n",
    "choices = [str(x+1) for x in range(9)]\n",
    "\n",
    "# same as above\n",
    "#for x in range (0, 9) :\n",
    "#    choices.append(str(x + 1))\n",
    "\n",
    "playerOneTurn = True\n",
    "winner = False\n",
    "draw = False\n",
    "\n",
    "def printBoard() :\n",
    "    print( '\\n-------------')\n",
    "    for i in range(0,9,3):\n",
    "        print( '| ' + choices[i] + ' | ' + choices[i+1] + ' | ' + choices[i+2] + ' | ')\n",
    "        print( '-------------')\n",
    "\n",
    "while not winner and not draw:\n",
    "    printBoard()\n",
    "\n",
    "    if playerOneTurn :\n",
    "        print( \"Player 1:\")\n",
    "    else :\n",
    "        print( \"Player 2:\")\n",
    "\n",
    "    try:\n",
    "        choice = int(input(\">>Make a move by selecting one of the numbers shown in the board \"))\n",
    "    except:\n",
    "        print(\"please enter a valid field\")\n",
    "        continue\n",
    "    try:\n",
    "        if choices[choice - 1] == 'X' or choices [choice-1] == 'O':\n",
    "            print(\"illegal move, plase try again\")\n",
    "            continue\n",
    "    except IndexError:\n",
    "        print(\"\\nEntered move exceeds the board size, please enter a valid move with in the board size\")\n",
    "        continue\n",
    "\n",
    "    if playerOneTurn :\n",
    "        choices[choice - 1] = 'X'\n",
    "    else :\n",
    "        choices[choice - 1] = 'O'\n",
    "\n",
    "    playerOneTurn = not playerOneTurn\n",
    "\n",
    "    for x in range (0, 3) :\n",
    "        y = x * 3\n",
    "        if (choices[y] == choices[(y + 1)] and choices[y] == choices[(y + 2)]) :\n",
    "            winner = True\n",
    "            printBoard()\n",
    "            break\n",
    "        if (choices[x] == choices[(x + 3)] and choices[x] == choices[(x + 6)]) :\n",
    "            winner = True\n",
    "            printBoard()\n",
    "            break\n",
    "\n",
    "    if((choices[0] == choices[4] and choices[0] == choices[8]) or \n",
    "       (choices[2] == choices[4] and choices[4] == choices[6])) :\n",
    "        winner = True\n",
    "        printBoard()\n",
    "    \n",
    "    if not winner:\n",
    "        for i in choices:\n",
    "            if i not in ['X','O']:\n",
    "                draw = False\n",
    "                break\n",
    "            else:\n",
    "                draw = True\n",
    "          \n",
    "         \n",
    "if winner:\n",
    "    print (\"Player \" + str(int(playerOneTurn + 1)) + \" wins!\\n\")\n",
    "elif draw:\n",
    "    print(\"\\nMatch is Drawn!\")"
   ]
  },
  {
   "cell_type": "code",
   "execution_count": 3,
   "metadata": {
    "collapsed": false
   },
   "outputs": [],
   "source": [
    "choices = []\n",
    "\n",
    "for x in range (0, 9) :\n",
    "    choices.append(str(x + 1))"
   ]
  },
  {
   "cell_type": "code",
   "execution_count": 4,
   "metadata": {
    "collapsed": false
   },
   "outputs": [
    {
     "data": {
      "text/plain": [
       "['1', '2', '3', '4', '5', '6', '7', '8', '9']"
      ]
     },
     "execution_count": 4,
     "metadata": {},
     "output_type": "execute_result"
    }
   ],
   "source": [
    "choices"
   ]
  },
  {
   "cell_type": "code",
   "execution_count": 1,
   "metadata": {
    "collapsed": false
   },
   "outputs": [
    {
     "ename": "NameError",
     "evalue": "name 'draw' is not defined",
     "output_type": "error",
     "traceback": [
      "\u001b[0;31m---------------------------------------------------------------------------\u001b[0m",
      "\u001b[0;31mNameError\u001b[0m                                 Traceback (most recent call last)",
      "\u001b[0;32m<ipython-input-1-00363e270d8b>\u001b[0m in \u001b[0;36m<module>\u001b[0;34m()\u001b[0m\n\u001b[0;32m----> 1\u001b[0;31m \u001b[0mdraw\u001b[0m\u001b[1;33m\u001b[0m\u001b[0m\n\u001b[0m",
      "\u001b[0;31mNameError\u001b[0m: name 'draw' is not defined"
     ]
    }
   ],
   "source": [
    "draw"
   ]
  },
  {
   "cell_type": "code",
   "execution_count": 5,
   "metadata": {
    "collapsed": false
   },
   "outputs": [
    {
     "data": {
      "text/plain": [
       "1"
      ]
     },
     "execution_count": 5,
     "metadata": {},
     "output_type": "execute_result"
    }
   ],
   "source": [
    "False + 1"
   ]
  },
  {
   "cell_type": "code",
   "execution_count": 3,
   "metadata": {
    "collapsed": false
   },
   "outputs": [
    {
     "name": "stdout",
     "output_type": "stream",
     "text": [
      "True\n"
     ]
    }
   ],
   "source": [
    "if 3 not in [1,2]:\n",
    "    print(True)"
   ]
  },
  {
   "cell_type": "code",
   "execution_count": 16,
   "metadata": {
    "collapsed": true
   },
   "outputs": [],
   "source": [
    "choices = [str(x+1) for x in range(9)]\n",
    "def printBoard() :\n",
    "    print( '\\n-------------')\n",
    "    for i in range(0,9,3):\n",
    "        print( '| ' + choices[i] + ' | ' + choices[i+1] + ' | ' + choices[i+2] + ' | ')\n",
    "        print( '-------------')"
   ]
  },
  {
   "cell_type": "code",
   "execution_count": 17,
   "metadata": {
    "collapsed": false
   },
   "outputs": [
    {
     "name": "stdout",
     "output_type": "stream",
     "text": [
      "\n",
      "-------------\n",
      "| 1 | 2 | 3 | \n",
      "-------------\n",
      "| 4 | 5 | 6 | \n",
      "-------------\n",
      "| 7 | 8 | 9 | \n",
      "-------------\n"
     ]
    }
   ],
   "source": [
    "printBoard()"
   ]
  },
  {
   "cell_type": "code",
   "execution_count": null,
   "metadata": {
    "collapsed": true
   },
   "outputs": [],
   "source": []
  }
 ],
 "metadata": {
  "kernelspec": {
   "display_name": "Python 3",
   "language": "python",
   "name": "python3"
  },
  "language_info": {
   "codemirror_mode": {
    "name": "ipython",
    "version": 3
   },
   "file_extension": ".py",
   "mimetype": "text/x-python",
   "name": "python",
   "nbconvert_exporter": "python",
   "pygments_lexer": "ipython3",
   "version": "3.6.0"
  }
 },
 "nbformat": 4,
 "nbformat_minor": 2
}
