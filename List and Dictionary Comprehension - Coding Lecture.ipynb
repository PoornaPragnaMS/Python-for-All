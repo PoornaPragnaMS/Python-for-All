{
 "cells": [
  {
   "cell_type": "markdown",
   "metadata": {},
   "source": [
    "### List  and Dictionary Comprehension"
   ]
  },
  {
   "cell_type": "code",
   "execution_count": 1,
   "metadata": {
    "collapsed": false
   },
   "outputs": [
    {
     "name": "stdout",
     "output_type": "stream",
     "text": [
      "[1, 2, 3, 4, 5]\n"
     ]
    }
   ],
   "source": [
    "list_1 = []\n",
    "\n",
    "# Add values from 1 to 5\n",
    "\n",
    "for i in range(1,6):\n",
    "    list_1.append(i)\n",
    "\n",
    "print(list_1)"
   ]
  },
  {
   "cell_type": "code",
   "execution_count": 2,
   "metadata": {
    "collapsed": false
   },
   "outputs": [
    {
     "name": "stdout",
     "output_type": "stream",
     "text": [
      "[1, 2, 3, 4, 5]\n"
     ]
    }
   ],
   "source": [
    "# Same operation via List Comprehension\n",
    "\n",
    "list_1 = []\n",
    "list_1 = [elements for elements in range(1,6)] \n",
    "# in the format of [return_expression for item in sequence]\n",
    "# return_expression can make use of item value\n",
    "\n",
    "print(list_1)"
   ]
  },
  {
   "cell_type": "code",
   "execution_count": 7,
   "metadata": {
    "collapsed": true
   },
   "outputs": [],
   "source": [
    "# Cube of set of numbers in list\n",
    "\n",
    "list_2 = [1,2,3,4,5]\n",
    "list_square = [x**3 for x in [1,2,3,4,5]]"
   ]
  },
  {
   "cell_type": "code",
   "execution_count": 8,
   "metadata": {
    "collapsed": false
   },
   "outputs": [
    {
     "data": {
      "text/plain": [
       "[1, 8, 27, 64, 125]"
      ]
     },
     "execution_count": 8,
     "metadata": {},
     "output_type": "execute_result"
    }
   ],
   "source": [
    "list_square"
   ]
  },
  {
   "cell_type": "code",
   "execution_count": 9,
   "metadata": {
    "collapsed": true
   },
   "outputs": [],
   "source": [
    "# same operation as above for power of 4\n",
    "\n",
    "list_square = [x**4 for x in list_2]"
   ]
  },
  {
   "cell_type": "code",
   "execution_count": 10,
   "metadata": {
    "collapsed": false
   },
   "outputs": [
    {
     "data": {
      "text/plain": [
       "[1, 16, 81, 256, 625]"
      ]
     },
     "execution_count": 10,
     "metadata": {},
     "output_type": "execute_result"
    }
   ],
   "source": [
    "list_square"
   ]
  },
  {
   "cell_type": "code",
   "execution_count": 23,
   "metadata": {
    "collapsed": false
   },
   "outputs": [
    {
     "name": "stdout",
     "output_type": "stream",
     "text": [
      "[1, 3, 5, 7, 9]\n"
     ]
    }
   ],
   "source": [
    "# Listing the odd numbers in a range using comprehension\n",
    "# Modulo operator provides the remainder value\n",
    "\n",
    "list_odd = [value for value in range(1,11) if value % 2 != 0]\n",
    "print(list_odd)"
   ]
  },
  {
   "cell_type": "code",
   "execution_count": 19,
   "metadata": {
    "collapsed": false
   },
   "outputs": [],
   "source": [
    "# same as above\n",
    "list_odd\n",
    "for value in range(1,11):\n",
    "    if value % 2 != 0:\n",
    "        list_odd.append(value)"
   ]
  },
  {
   "cell_type": "code",
   "execution_count": 25,
   "metadata": {
    "collapsed": false
   },
   "outputs": [
    {
     "name": "stdout",
     "output_type": "stream",
     "text": [
      "[230.0, 284.0, 275.0]\n"
     ]
    }
   ],
   "source": [
    "# convert celsius to fahrenheit if the celsius value is greater than 100, if not keep it in celsius\n",
    "# suffix the values with °C and °F for the temperatures in celsius and fahrenheit correspondingly\n",
    "# Use list comprehension\n",
    "\n",
    "celsius = [20,110,35,140,30,65,135]\n",
    "fahrenheit = [(temperature * (9/5) + 32) for temperature in celsius if temperature > 100 ]\n",
    "print(fahrenheit)"
   ]
  },
  {
   "cell_type": "code",
   "execution_count": 27,
   "metadata": {
    "collapsed": false
   },
   "outputs": [
    {
     "name": "stdout",
     "output_type": "stream",
     "text": [
      "[20, 230.0, 35, 284.0, 30, 65, 275.0]\n"
     ]
    }
   ],
   "source": [
    "# In the above case we only get teh values in fahrenheit, but not in celsius\n",
    "# we can get the both by adding if else in list comprehension as shown below\n",
    "\n",
    "celsius = [20,110,35,140,30,65,135]\n",
    "new_temp = [(temperature * (9/5) + 32) if temperature > 100 else temperature for temperature in celsius  ]\n",
    "print(new_temp)"
   ]
  },
  {
   "cell_type": "code",
   "execution_count": 30,
   "metadata": {
    "collapsed": false
   },
   "outputs": [
    {
     "name": "stdout",
     "output_type": "stream",
     "text": [
      "['20°c', '230.0°f', '35°c', '284.0°f', '30°c', '65°c', '275.0°f']\n"
     ]
    }
   ],
   "source": [
    "# lets append °c and °f accordingly, first we must convert the intergers to string before doing it\n",
    "\n",
    "celsius = [20,110,35,140,30,65,135]\n",
    "new_temp = [str(temperature * (9/5) + 32)+'°f' if temperature > 100 else str(temperature)+'°c' for temperature in celsius  ]\n",
    "print(new_temp)\n"
   ]
  },
  {
   "cell_type": "code",
   "execution_count": 33,
   "metadata": {
    "collapsed": true
   },
   "outputs": [],
   "source": [
    "# nested list comprehension\n",
    "\n",
    "list_nest = [x**2 for x in [x**2 for x in range(1,11)]]"
   ]
  },
  {
   "cell_type": "code",
   "execution_count": 34,
   "metadata": {
    "collapsed": false
   },
   "outputs": [
    {
     "data": {
      "text/plain": [
       "[1, 16, 81, 256, 625, 1296, 2401, 4096, 6561, 10000]"
      ]
     },
     "execution_count": 34,
     "metadata": {},
     "output_type": "execute_result"
    }
   ],
   "source": [
    "list_nest"
   ]
  },
  {
   "cell_type": "code",
   "execution_count": 35,
   "metadata": {
    "collapsed": true
   },
   "outputs": [],
   "source": [
    "# Dictionary comprehension\n",
    "\n",
    "details = {\"James\":25, \"John\":30,\"Harry\":22}"
   ]
  },
  {
   "cell_type": "code",
   "execution_count": 49,
   "metadata": {
    "collapsed": false
   },
   "outputs": [],
   "source": [
    "dict_comprehension = {key+' San':value+1 for (key,value) in details.items()}"
   ]
  },
  {
   "cell_type": "code",
   "execution_count": 50,
   "metadata": {
    "collapsed": false
   },
   "outputs": [
    {
     "data": {
      "text/plain": [
       "{'Harry San': 23, 'James San': 26, 'John San': 31}"
      ]
     },
     "execution_count": 50,
     "metadata": {},
     "output_type": "execute_result"
    }
   ],
   "source": [
    "dict_comprehension"
   ]
  },
  {
   "cell_type": "code",
   "execution_count": null,
   "metadata": {
    "collapsed": true
   },
   "outputs": [],
   "source": []
  }
 ],
 "metadata": {
  "kernelspec": {
   "display_name": "Python 3",
   "language": "python",
   "name": "python3"
  },
  "language_info": {
   "codemirror_mode": {
    "name": "ipython",
    "version": 3
   },
   "file_extension": ".py",
   "mimetype": "text/x-python",
   "name": "python",
   "nbconvert_exporter": "python",
   "pygments_lexer": "ipython3",
   "version": "3.6.0"
  }
 },
 "nbformat": 4,
 "nbformat_minor": 2
}
