{
 "cells": [
  {
   "cell_type": "code",
   "execution_count": 2,
   "metadata": {
    "collapsed": true
   },
   "outputs": [],
   "source": [
    "a =100\n",
    "\n",
    "def f1():\n",
    "    print(a)\n",
    "\n",
    "def f2():\n",
    "    print(a)"
   ]
  },
  {
   "cell_type": "code",
   "execution_count": 3,
   "metadata": {
    "collapsed": false
   },
   "outputs": [
    {
     "name": "stdout",
     "output_type": "stream",
     "text": [
      "100\n",
      "100\n"
     ]
    }
   ],
   "source": [
    "f1()\n",
    "f2()"
   ]
  },
  {
   "cell_type": "code",
   "execution_count": 4,
   "metadata": {
    "collapsed": true
   },
   "outputs": [],
   "source": [
    "def f1():\n",
    "    b = 100\n",
    "    print(b)\n",
    "    \n",
    "def f2():\n",
    "    print(b)"
   ]
  },
  {
   "cell_type": "code",
   "execution_count": 5,
   "metadata": {
    "collapsed": false
   },
   "outputs": [
    {
     "name": "stdout",
     "output_type": "stream",
     "text": [
      "100\n"
     ]
    }
   ],
   "source": [
    "f1()"
   ]
  },
  {
   "cell_type": "code",
   "execution_count": 6,
   "metadata": {
    "collapsed": false
   },
   "outputs": [
    {
     "ename": "NameError",
     "evalue": "name 'b' is not defined",
     "output_type": "error",
     "traceback": [
      "\u001b[0;31m---------------------------------------------------------------------------\u001b[0m",
      "\u001b[0;31mNameError\u001b[0m                                 Traceback (most recent call last)",
      "\u001b[0;32m<ipython-input-6-fdec4c1c071f>\u001b[0m in \u001b[0;36m<module>\u001b[0;34m()\u001b[0m\n\u001b[0;32m----> 1\u001b[0;31m \u001b[0mf2\u001b[0m\u001b[1;33m(\u001b[0m\u001b[1;33m)\u001b[0m\u001b[1;33m\u001b[0m\u001b[0m\n\u001b[0m",
      "\u001b[0;32m<ipython-input-4-2ff6851c9172>\u001b[0m in \u001b[0;36mf2\u001b[0;34m()\u001b[0m\n\u001b[1;32m      4\u001b[0m \u001b[1;33m\u001b[0m\u001b[0m\n\u001b[1;32m      5\u001b[0m \u001b[1;32mdef\u001b[0m \u001b[0mf2\u001b[0m\u001b[1;33m(\u001b[0m\u001b[1;33m)\u001b[0m\u001b[1;33m:\u001b[0m\u001b[1;33m\u001b[0m\u001b[0m\n\u001b[0;32m----> 6\u001b[0;31m     \u001b[0mprint\u001b[0m\u001b[1;33m(\u001b[0m\u001b[0mb\u001b[0m\u001b[1;33m)\u001b[0m\u001b[1;33m\u001b[0m\u001b[0m\n\u001b[0m",
      "\u001b[0;31mNameError\u001b[0m: name 'b' is not defined"
     ]
    }
   ],
   "source": [
    "f2()"
   ]
  },
  {
   "cell_type": "code",
   "execution_count": 7,
   "metadata": {
    "collapsed": true
   },
   "outputs": [],
   "source": [
    "def f1():\n",
    "    c = 100\n",
    "    print(c)\n",
    "    print(id(c))\n",
    "\n",
    "def f2():\n",
    "    c = 50\n",
    "    print(c)\n",
    "    print(id(c))"
   ]
  },
  {
   "cell_type": "code",
   "execution_count": 8,
   "metadata": {
    "collapsed": false
   },
   "outputs": [
    {
     "name": "stdout",
     "output_type": "stream",
     "text": [
      "100\n",
      "1818150448\n"
     ]
    }
   ],
   "source": [
    "f1()"
   ]
  },
  {
   "cell_type": "code",
   "execution_count": 9,
   "metadata": {
    "collapsed": false
   },
   "outputs": [
    {
     "name": "stdout",
     "output_type": "stream",
     "text": [
      "50\n",
      "1818148848\n"
     ]
    }
   ],
   "source": [
    "f2()"
   ]
  },
  {
   "cell_type": "code",
   "execution_count": 11,
   "metadata": {
    "collapsed": false
   },
   "outputs": [
    {
     "name": "stdout",
     "output_type": "stream",
     "text": [
      "102\n",
      "1818150512\n",
      "100\n",
      "1818150448\n"
     ]
    }
   ],
   "source": [
    "a = 100\n",
    "def outer_foo():\n",
    "    a = 102\n",
    "    print(a)\n",
    "    print(id(a))\n",
    "outer_foo()\n",
    "\n",
    "print(a)\n",
    "print(id(a))"
   ]
  },
  {
   "cell_type": "code",
   "execution_count": 13,
   "metadata": {
    "collapsed": true
   },
   "outputs": [],
   "source": [
    "a = 105"
   ]
  },
  {
   "cell_type": "code",
   "execution_count": 14,
   "metadata": {
    "collapsed": false
   },
   "outputs": [
    {
     "name": "stdout",
     "output_type": "stream",
     "text": [
      "102\n",
      "1818150512\n"
     ]
    }
   ],
   "source": [
    "outer_foo()"
   ]
  },
  {
   "cell_type": "code",
   "execution_count": 19,
   "metadata": {
    "collapsed": false
   },
   "outputs": [
    {
     "name": "stdout",
     "output_type": "stream",
     "text": [
      "102\n"
     ]
    }
   ],
   "source": [
    "print(a)"
   ]
  },
  {
   "cell_type": "code",
   "execution_count": 20,
   "metadata": {
    "collapsed": true
   },
   "outputs": [],
   "source": [
    "a = 100\n",
    "def outer_foo():\n",
    "    global a\n",
    "    a = 102\n",
    "    print(a)\n",
    "    print(id(a))"
   ]
  },
  {
   "cell_type": "code",
   "execution_count": 21,
   "metadata": {
    "collapsed": false
   },
   "outputs": [
    {
     "name": "stdout",
     "output_type": "stream",
     "text": [
      "102\n",
      "1818150512\n"
     ]
    }
   ],
   "source": [
    "outer_foo()"
   ]
  },
  {
   "cell_type": "code",
   "execution_count": 22,
   "metadata": {
    "collapsed": false
   },
   "outputs": [
    {
     "name": "stdout",
     "output_type": "stream",
     "text": [
      "102\n"
     ]
    }
   ],
   "source": [
    "print(a)"
   ]
  },
  {
   "cell_type": "code",
   "execution_count": 23,
   "metadata": {
    "collapsed": false
   },
   "outputs": [
    {
     "name": "stdout",
     "output_type": "stream",
     "text": [
      "1818150512\n"
     ]
    }
   ],
   "source": [
    "print(id(a))"
   ]
  },
  {
   "cell_type": "code",
   "execution_count": 31,
   "metadata": {
    "collapsed": false
   },
   "outputs": [
    {
     "name": "stdout",
     "output_type": "stream",
     "text": [
      "inner: 300\n",
      "1757328955632\n",
      "outer function: 300\n",
      "1757328955632\n",
      "global variable 300\n",
      "1757328955632\n"
     ]
    }
   ],
   "source": [
    "x = '100'\n",
    "def outer():\n",
    "    def inner():\n",
    "        global x \n",
    "        x='300'\n",
    "        print('inner: '+x)\n",
    "        print(id(x))\n",
    "    inner()\n",
    "    print('outer function: '+x)\n",
    "    print(id(x))\n",
    "\n",
    "outer()\n",
    "print('global variable '+x)\n",
    "print(id(x))"
   ]
  },
  {
   "cell_type": "code",
   "execution_count": 47,
   "metadata": {
    "collapsed": false
   },
   "outputs": [
    {
     "name": "stdout",
     "output_type": "stream",
     "text": [
      "Global scope: 100\n"
     ]
    }
   ],
   "source": [
    "a =100\n",
    "def outerFoo(): \n",
    "    global a\n",
    "    a = a+ 1\n",
    "    def f1():\n",
    "        a =10\n",
    "        print('within the function f1'+str(a))\n",
    "    def f2():\n",
    "        a = 20\n",
    "        print('within the function f2'+str(a))\n",
    "    f1()\n",
    "    f2()\n",
    "    print('Outer function '+str(a))\n",
    "print('Global scope: ' +str(a))"
   ]
  },
  {
   "cell_type": "code",
   "execution_count": 49,
   "metadata": {
    "collapsed": false
   },
   "outputs": [
    {
     "name": "stdout",
     "output_type": "stream",
     "text": [
      "within the function f110\n",
      "within the function f220\n",
      "Outer function 102\n"
     ]
    }
   ],
   "source": [
    "outerFoo()"
   ]
  },
  {
   "cell_type": "code",
   "execution_count": 61,
   "metadata": {
    "collapsed": false
   },
   "outputs": [
    {
     "name": "stdout",
     "output_type": "stream",
     "text": [
      "Within function f1: 10\n",
      "Within function f2: 20\n",
      "Outer function: [3, 4, 5]\n",
      "[3, 4, 5]\n"
     ]
    }
   ],
   "source": [
    "a =[1,2,3]\n",
    "def outerFunc():\n",
    "    global a\n",
    "    a = [3,4,5]\n",
    "    def f1():\n",
    "        a = 10\n",
    "        print('Within function f1: '+str(a))\n",
    "    def f2():\n",
    "        a = 20\n",
    "        print('Within function f2: '+str(a))\n",
    "    f1()\n",
    "    f2()\n",
    "    print('Outer function: '+str(a))\n",
    "outerFunc()\n",
    "print(a)"
   ]
  },
  {
   "cell_type": "code",
   "execution_count": 62,
   "metadata": {
    "collapsed": false
   },
   "outputs": [
    {
     "name": "stdout",
     "output_type": "stream",
     "text": [
      "Within function f1: 10\n",
      "Within function f2: 20\n",
      "Outer function: {'1': 'Z', '2': 'B'}\n",
      "{'1': 'Z', '2': 'B'}\n"
     ]
    }
   ],
   "source": [
    "a ={\"1\":'A',\"2\":'B'}\n",
    "def outerFunc():\n",
    "    a[\"1\"]= 'Z'\n",
    "    def f1():\n",
    "        a = 10\n",
    "        print('Within function f1: '+str(a))\n",
    "    def f2():\n",
    "        a = 20\n",
    "        print('Within function f2: '+str(a))\n",
    "    f1()\n",
    "    f2()\n",
    "    print('Outer function: '+str(a))\n",
    "outerFunc()\n",
    "print(a)"
   ]
  },
  {
   "cell_type": "code",
   "execution_count": 65,
   "metadata": {
    "collapsed": false
   },
   "outputs": [
    {
     "name": "stdout",
     "output_type": "stream",
     "text": [
      "Within function f1: 10\n",
      "Within function f2: 20\n",
      "Outer function: {'a': 100, 'b': 20}\n",
      "{'a': 100, 'b': 20}\n"
     ]
    }
   ],
   "source": [
    "a ={\"1\":'A',\"2\":'B'}\n",
    "def outerFunc():\n",
    "    global a\n",
    "    a = {\"a\":10,\"b\":20}\n",
    "    a[\"a\"] = 100\n",
    "    def f1():\n",
    "        a = 10\n",
    "        print('Within function f1: '+str(a))\n",
    "    def f2():\n",
    "        a = 20\n",
    "        print('Within function f2: '+str(a))\n",
    "    f1()\n",
    "    f2()\n",
    "    print('Outer function: '+str(a))\n",
    "outerFunc()\n",
    "print(a)"
   ]
  },
  {
   "cell_type": "code",
   "execution_count": 70,
   "metadata": {
    "collapsed": false
   },
   "outputs": [
    {
     "name": "stdout",
     "output_type": "stream",
     "text": [
      "200\n",
      "200\n"
     ]
    }
   ],
   "source": [
    "def foo1():\n",
    "    global p\n",
    "    p = 200\n",
    "    print(p)\n",
    "foo1()\n",
    "print(p)"
   ]
  },
  {
   "cell_type": "code",
   "execution_count": 72,
   "metadata": {
    "collapsed": false
   },
   "outputs": [
    {
     "name": "stdout",
     "output_type": "stream",
     "text": [
      "100\n",
      "100\n"
     ]
    }
   ],
   "source": [
    "y = 100\n",
    "def foo2():\n",
    "    print(y)\n",
    "foo2()\n",
    "print(y)"
   ]
  },
  {
   "cell_type": "code",
   "execution_count": null,
   "metadata": {
    "collapsed": true
   },
   "outputs": [],
   "source": []
  }
 ],
 "metadata": {
  "kernelspec": {
   "display_name": "Python 3",
   "language": "python",
   "name": "python3"
  },
  "language_info": {
   "codemirror_mode": {
    "name": "ipython",
    "version": 3
   },
   "file_extension": ".py",
   "mimetype": "text/x-python",
   "name": "python",
   "nbconvert_exporter": "python",
   "pygments_lexer": "ipython3",
   "version": "3.6.0"
  }
 },
 "nbformat": 4,
 "nbformat_minor": 2
}
