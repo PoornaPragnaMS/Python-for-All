{
 "cells": [
  {
   "cell_type": "markdown",
   "metadata": {},
   "source": [
    "### Collections - Counter in Python"
   ]
  },
  {
   "cell_type": "code",
   "execution_count": 3,
   "metadata": {
    "collapsed": false
   },
   "outputs": [],
   "source": [
    "# Elements are stored as dictionary keys with count as its value in the counter\n",
    "\n",
    "from collections import Counter\n"
   ]
  },
  {
   "cell_type": "code",
   "execution_count": 4,
   "metadata": {
    "collapsed": true
   },
   "outputs": [],
   "source": [
    "list_1 = [100,100,100,200,200,300,300,300,433.23,433.23,True,True,False,False, 'Python','Python']"
   ]
  },
  {
   "cell_type": "code",
   "execution_count": 9,
   "metadata": {
    "collapsed": false
   },
   "outputs": [
    {
     "data": {
      "text/plain": [
       "Counter({100: 3, 200: 2, 300: 3, 433.23: 2, True: 2, False: 2, 'Python': 2})"
      ]
     },
     "execution_count": 9,
     "metadata": {},
     "output_type": "execute_result"
    }
   ],
   "source": [
    "Counter(list_1)"
   ]
  },
  {
   "cell_type": "code",
   "execution_count": 15,
   "metadata": {
    "collapsed": false
   },
   "outputs": [
    {
     "data": {
      "text/plain": [
       "Counter({' ': 7,\n",
       "         ',': 1,\n",
       "         'P': 1,\n",
       "         'a': 3,\n",
       "         'b': 1,\n",
       "         'c': 1,\n",
       "         'd': 1,\n",
       "         'e': 2,\n",
       "         'f': 2,\n",
       "         'g': 2,\n",
       "         'h': 1,\n",
       "         'i': 5,\n",
       "         'k': 1,\n",
       "         'l': 1,\n",
       "         'm': 3,\n",
       "         'n': 2,\n",
       "         'o': 2,\n",
       "         'p': 1,\n",
       "         'r': 2,\n",
       "         's': 3,\n",
       "         't': 4,\n",
       "         'u': 2,\n",
       "         'y': 2})"
      ]
     },
     "execution_count": 15,
     "metadata": {},
     "output_type": "execute_result"
    }
   ],
   "source": [
    "string_1 = 'Programming is difficult, but python makes it easy'\n",
    "Counter(string_1)"
   ]
  },
  {
   "cell_type": "code",
   "execution_count": 20,
   "metadata": {
    "collapsed": false
   },
   "outputs": [
    {
     "data": {
      "text/plain": [
       "['Python',\n",
       " 'is',\n",
       " 'a',\n",
       " 'language',\n",
       " ',',\n",
       " 'language',\n",
       " 'choose',\n",
       " 'is',\n",
       " 'python',\n",
       " 'for',\n",
       " 'development',\n",
       " 'of',\n",
       " 'application']"
      ]
     },
     "execution_count": 20,
     "metadata": {},
     "output_type": "execute_result"
    }
   ],
   "source": [
    "sentence = 'Python is a language , language choose is python for development of application'\n",
    "words = sentence.split() # same as sentence.split(' ')\n",
    "words"
   ]
  },
  {
   "cell_type": "code",
   "execution_count": 32,
   "metadata": {
    "collapsed": false
   },
   "outputs": [],
   "source": [
    "counter_set = Counter(words)"
   ]
  },
  {
   "cell_type": "code",
   "execution_count": 25,
   "metadata": {
    "collapsed": false
   },
   "outputs": [
    {
     "data": {
      "text/plain": [
       "[('is', 2), ('language', 2), ('Python', 1)]"
      ]
     },
     "execution_count": 25,
     "metadata": {},
     "output_type": "execute_result"
    }
   ],
   "source": [
    "counter_set.most_common()\n",
    "counter_set.most_common(2)\n",
    "counter_set.most_common(3)"
   ]
  },
  {
   "cell_type": "code",
   "execution_count": 29,
   "metadata": {
    "collapsed": false
   },
   "outputs": [
    {
     "data": {
      "text/plain": [
       "13"
      ]
     },
     "execution_count": 29,
     "metadata": {},
     "output_type": "execute_result"
    }
   ],
   "source": [
    "# Total number of words present in the statements\n",
    "sum(counter_set.values())"
   ]
  },
  {
   "cell_type": "code",
   "execution_count": 30,
   "metadata": {
    "collapsed": true
   },
   "outputs": [],
   "source": [
    "# Clears or removes all the elements from counter_Set\n",
    "counter_set.clear()"
   ]
  },
  {
   "cell_type": "code",
   "execution_count": 31,
   "metadata": {
    "collapsed": false
   },
   "outputs": [
    {
     "data": {
      "text/plain": [
       "Counter()"
      ]
     },
     "execution_count": 31,
     "metadata": {},
     "output_type": "execute_result"
    }
   ],
   "source": [
    "counter_set"
   ]
  },
  {
   "cell_type": "code",
   "execution_count": 33,
   "metadata": {
    "collapsed": true
   },
   "outputs": [],
   "source": [
    "counter_set = Counter(words)"
   ]
  },
  {
   "cell_type": "code",
   "execution_count": 34,
   "metadata": {
    "collapsed": false
   },
   "outputs": [
    {
     "data": {
      "text/plain": [
       "['Python',\n",
       " 'is',\n",
       " 'a',\n",
       " 'language',\n",
       " ',',\n",
       " 'choose',\n",
       " 'python',\n",
       " 'for',\n",
       " 'development',\n",
       " 'of',\n",
       " 'application']"
      ]
     },
     "execution_count": 34,
     "metadata": {},
     "output_type": "execute_result"
    }
   ],
   "source": [
    "# create back the list of elements from counter object\n",
    "list(counter_set)"
   ]
  },
  {
   "cell_type": "code",
   "execution_count": 36,
   "metadata": {
    "collapsed": false
   },
   "outputs": [
    {
     "name": "stdout",
     "output_type": "stream",
     "text": [
      "('Python', 'is', 'a', 'language', ',', 'choose', 'python', 'for', 'development', 'of', 'application')\n",
      "{'application', 'language', 'of', 'choose', ',', 'for', 'a', 'python', 'development', 'is', 'Python'}\n"
     ]
    }
   ],
   "source": [
    "# similarly to a set and tuple\n",
    "print(tuple(counter_set))\n",
    "print(set(counter_set))"
   ]
  },
  {
   "cell_type": "code",
   "execution_count": 37,
   "metadata": {
    "collapsed": false
   },
   "outputs": [
    {
     "name": "stdout",
     "output_type": "stream",
     "text": [
      "{'Python': 1, 'is': 2, 'a': 1, 'language': 2, ',': 1, 'choose': 1, 'python': 1, 'for': 1, 'development': 1, 'of': 1, 'application': 1}\n"
     ]
    }
   ],
   "source": [
    "# Now to a dictionary\n",
    "print(dict(counter_set))"
   ]
  },
  {
   "cell_type": "code",
   "execution_count": 38,
   "metadata": {
    "collapsed": false
   },
   "outputs": [
    {
     "data": {
      "text/plain": [
       "dict_items([('Python', 1), ('is', 2), ('a', 1), ('language', 2), (',', 1), ('choose', 1), ('python', 1), ('for', 1), ('development', 1), ('of', 1), ('application', 1)])"
      ]
     },
     "execution_count": 38,
     "metadata": {},
     "output_type": "execute_result"
    }
   ],
   "source": [
    "counter_set.items()"
   ]
  },
  {
   "cell_type": "code",
   "execution_count": 43,
   "metadata": {
    "collapsed": false
   },
   "outputs": [
    {
     "data": {
      "text/plain": [
       "[('application', 1),\n",
       " ('of', 1),\n",
       " ('development', 1),\n",
       " ('for', 1),\n",
       " ('python', 1),\n",
       " ('choose', 1),\n",
       " (',', 1),\n",
       " ('a', 1),\n",
       " ('Python', 1),\n",
       " ('language', 2),\n",
       " ('is', 2)]"
      ]
     },
     "execution_count": 43,
     "metadata": {},
     "output_type": "execute_result"
    }
   ],
   "source": [
    "# finding least common elements:\n",
    "counter_set.most_common() # gives the list most common elemtns or elements iindexed in descending order of thier count\n",
    "\n",
    "# fetch the elements in reverse order from the returned list, it will provide the least common ones as shown below:\n",
    "\n",
    "counter_set.most_common()[::-1]"
   ]
  },
  {
   "cell_type": "code",
   "execution_count": 46,
   "metadata": {
    "collapsed": false
   },
   "outputs": [
    {
     "data": {
      "text/plain": [
       "[('application', 1), ('of', 1)]"
      ]
     },
     "execution_count": 46,
     "metadata": {},
     "output_type": "execute_result"
    }
   ],
   "source": [
    "# Last 2 least common elements:\n",
    "\n",
    "counter_set.most_common()[:-3:-1] \n",
    "\n",
    "# last 3 least common elements:\n",
    "\n",
    "counter_set.most_common()[:-4:-1] \n",
    "\n",
    "# in general for n least common elements:\n",
    "\n",
    "counter_set.most_common()[:-n-1:-1]"
   ]
  }
 ],
 "metadata": {
  "kernelspec": {
   "display_name": "Python 3",
   "language": "python",
   "name": "python3"
  },
  "language_info": {
   "codemirror_mode": {
    "name": "ipython",
    "version": 3
   },
   "file_extension": ".py",
   "mimetype": "text/x-python",
   "name": "python",
   "nbconvert_exporter": "python",
   "pygments_lexer": "ipython3",
   "version": "3.6.0"
  }
 },
 "nbformat": 4,
 "nbformat_minor": 2
}
