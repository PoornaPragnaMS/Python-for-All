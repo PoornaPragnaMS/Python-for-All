{
 "cells": [
  {
   "cell_type": "markdown",
   "metadata": {},
   "source": [
    "### Errors and Exception Handling"
   ]
  },
  {
   "cell_type": "code",
   "execution_count": 1,
   "metadata": {
    "collapsed": false
   },
   "outputs": [
    {
     "ename": "TypeError",
     "evalue": "must be str, not int",
     "output_type": "error",
     "traceback": [
      "\u001b[0;31m---------------------------------------------------------------------------\u001b[0m",
      "\u001b[0;31mTypeError\u001b[0m                                 Traceback (most recent call last)",
      "\u001b[0;32m<ipython-input-1-c44d8b47d0fd>\u001b[0m in \u001b[0;36m<module>\u001b[0;34m()\u001b[0m\n\u001b[0;32m----> 1\u001b[0;31m \u001b[1;34m'P'\u001b[0m\u001b[1;33m+\u001b[0m\u001b[1;36m2\u001b[0m\u001b[1;33m\u001b[0m\u001b[0m\n\u001b[0m",
      "\u001b[0;31mTypeError\u001b[0m: must be str, not int"
     ]
    }
   ],
   "source": [
    "'P'+2"
   ]
  },
  {
   "cell_type": "code",
   "execution_count": 9,
   "metadata": {
    "collapsed": false
   },
   "outputs": [
    {
     "name": "stdout",
     "output_type": "stream",
     "text": [
      "There is a type mismatch in addition\n"
     ]
    }
   ],
   "source": [
    "# Handle it by placing in a simple try.. except.. block\n",
    "try:\n",
    "    'P' + 2\n",
    "except:\n",
    "    print('There is a type mismatch in addition')   "
   ]
  },
  {
   "cell_type": "code",
   "execution_count": 7,
   "metadata": {
    "collapsed": false
   },
   "outputs": [
    {
     "name": "stdout",
     "output_type": "stream",
     "text": [
      "There is a type mismatch in addition\n",
      "This code in finally  block always runs!\n"
     ]
    }
   ],
   "source": [
    "# Place a line of code, that runs inspite of an error in the code using ginally block\n",
    "\n",
    "try:\n",
    "    'P' + 2\n",
    "except:\n",
    "    print('There is a type mismatch in addition')  \n",
    "finally:\n",
    "    print('This code in finally  block always runs!')"
   ]
  },
  {
   "cell_type": "code",
   "execution_count": 8,
   "metadata": {
    "collapsed": false
   },
   "outputs": [
    {
     "name": "stdout",
     "output_type": "stream",
     "text": [
      "This code in finally  block always runs!\n"
     ]
    },
    {
     "ename": "TypeError",
     "evalue": "must be str, not int",
     "output_type": "error",
     "traceback": [
      "\u001b[0;31m---------------------------------------------------------------------------\u001b[0m",
      "\u001b[0;31mTypeError\u001b[0m                                 Traceback (most recent call last)",
      "\u001b[0;32m<ipython-input-8-92a645ce2923>\u001b[0m in \u001b[0;36m<module>\u001b[0;34m()\u001b[0m\n\u001b[1;32m      3\u001b[0m \u001b[1;33m\u001b[0m\u001b[0m\n\u001b[1;32m      4\u001b[0m \u001b[1;32mtry\u001b[0m\u001b[1;33m:\u001b[0m\u001b[1;33m\u001b[0m\u001b[0m\n\u001b[0;32m----> 5\u001b[0;31m     \u001b[1;34m'P'\u001b[0m \u001b[1;33m+\u001b[0m \u001b[1;36m2\u001b[0m\u001b[1;33m\u001b[0m\u001b[0m\n\u001b[0m\u001b[1;32m      6\u001b[0m \u001b[1;32mfinally\u001b[0m\u001b[1;33m:\u001b[0m\u001b[1;33m\u001b[0m\u001b[0m\n\u001b[1;32m      7\u001b[0m     \u001b[0mprint\u001b[0m\u001b[1;33m(\u001b[0m\u001b[1;34m'This code in finally  block always runs!'\u001b[0m\u001b[1;33m)\u001b[0m\u001b[1;33m\u001b[0m\u001b[0m\n",
      "\u001b[0;31mTypeError\u001b[0m: must be str, not int"
     ]
    }
   ],
   "source": [
    "# Place a line of code, that runs inspite of an error in the code\n",
    "#finally blcok runs even without except clause\n",
    "\n",
    "try:\n",
    "    'P' + 2\n",
    "finally:\n",
    "    print('This code in finally  block always runs!')"
   ]
  },
  {
   "cell_type": "code",
   "execution_count": 13,
   "metadata": {
    "collapsed": false
   },
   "outputs": [
    {
     "name": "stdout",
     "output_type": "stream",
     "text": [
      "File content was written successfully!\n"
     ]
    }
   ],
   "source": [
    "# Try.. Except ... and no exception(else) block\n",
    "try:\n",
    "    file = open('file1','w')\n",
    "    file.write('This is a sample content')\n",
    "except:\n",
    "    print('Error in file writing')\n",
    "else:\n",
    "    print('File content was written successfully!')"
   ]
  },
  {
   "cell_type": "code",
   "execution_count": 14,
   "metadata": {
    "collapsed": false
   },
   "outputs": [
    {
     "name": "stdout",
     "output_type": "stream",
     "text": [
      "Error in file writing\n"
     ]
    }
   ],
   "source": [
    "# Try.. Except ... and no except(else) block\n",
    "# Either except or else block gets executed, but not both\n",
    "try:\n",
    "    file = open('file1','r')\n",
    "    file.write('This is a sample content')\n",
    "except:\n",
    "    print('Error in file writing')\n",
    "else:\n",
    "    print('File content was written successfully!')"
   ]
  },
  {
   "cell_type": "code",
   "execution_count": 15,
   "metadata": {
    "collapsed": false
   },
   "outputs": [
    {
     "name": "stdout",
     "output_type": "stream",
     "text": [
      "Error in file writing\n"
     ]
    }
   ],
   "source": [
    "# Any exception can be caught by generically using except block\n",
    "# or We can specify the specific exception that needs to be handled\n",
    "\n",
    "try:\n",
    "    file = open('file1','r')\n",
    "    file.write('This is a sample content')\n",
    "except IOError:\n",
    "    print('Error in file writing')\n",
    "else:\n",
    "    print('File content was written successfully!')"
   ]
  },
  {
   "cell_type": "code",
   "execution_count": 17,
   "metadata": {
    "collapsed": false
   },
   "outputs": [
    {
     "ename": "TypeError",
     "evalue": "must be str, not int",
     "output_type": "error",
     "traceback": [
      "\u001b[0;31m---------------------------------------------------------------------------\u001b[0m",
      "\u001b[0;31mTypeError\u001b[0m                                 Traceback (most recent call last)",
      "\u001b[0;32m<ipython-input-17-fa61abfae0ad>\u001b[0m in \u001b[0;36m<module>\u001b[0;34m()\u001b[0m\n\u001b[1;32m      5\u001b[0m     \u001b[0mfile\u001b[0m \u001b[1;33m=\u001b[0m \u001b[0mopen\u001b[0m\u001b[1;33m(\u001b[0m\u001b[1;34m'file1'\u001b[0m\u001b[1;33m,\u001b[0m\u001b[1;34m'w'\u001b[0m\u001b[1;33m)\u001b[0m\u001b[1;33m\u001b[0m\u001b[0m\n\u001b[1;32m      6\u001b[0m     \u001b[0mfile\u001b[0m\u001b[1;33m.\u001b[0m\u001b[0mwrite\u001b[0m\u001b[1;33m(\u001b[0m\u001b[1;34m'This is a sample content'\u001b[0m\u001b[1;33m)\u001b[0m\u001b[1;33m\u001b[0m\u001b[0m\n\u001b[0;32m----> 7\u001b[0;31m     \u001b[1;34m'P'\u001b[0m\u001b[1;33m+\u001b[0m\u001b[1;36m10\u001b[0m\u001b[1;33m\u001b[0m\u001b[0m\n\u001b[0m\u001b[1;32m      8\u001b[0m \u001b[1;32mexcept\u001b[0m \u001b[0mIOError\u001b[0m\u001b[1;33m:\u001b[0m\u001b[1;33m\u001b[0m\u001b[0m\n\u001b[1;32m      9\u001b[0m     \u001b[0mprint\u001b[0m\u001b[1;33m(\u001b[0m\u001b[1;34m'Error in file writing'\u001b[0m\u001b[1;33m)\u001b[0m\u001b[1;33m\u001b[0m\u001b[0m\n",
      "\u001b[0;31mTypeError\u001b[0m: must be str, not int"
     ]
    }
   ],
   "source": [
    "# Any exception can be caught by generically using except block\n",
    "# or We can specify the specific exception that needs to be handled\n",
    "# as the exception is specifically handled as IO exception, let us introduce a different exception below\n",
    "try:\n",
    "    file = open('file1','w')\n",
    "    file.write('This is a sample content')\n",
    "    'P'+10\n",
    "except IOError:\n",
    "    print('Error in file writing')\n",
    "else:\n",
    "    print('File content was written successfully!')"
   ]
  },
  {
   "cell_type": "code",
   "execution_count": 12,
   "metadata": {
    "collapsed": false
   },
   "outputs": [
    {
     "name": "stdout",
     "output_type": "stream",
     "text": [
      "Error in file writing or usage of incompatible data objects for addition\n"
     ]
    }
   ],
   "source": [
    "# Any exception can be caught by generically using except block\n",
    "# or We can specify the specific exception that needs to be handled\n",
    "# as the exception is specifically handled as IO exception, let us introduce a different exception below\n",
    "# this time, instead of making it as generic exception handling, lets use except clause with multiple exceptions\n",
    "\n",
    "try:\n",
    "    file = open('file1','w')\n",
    "    file.write('This is a sample content')\n",
    "    'P'+10\n",
    "except (IOError,TypeError):\n",
    "    print('Error in file writing or usage of incompatible data objects for addition')\n",
    "else:\n",
    "    print('File content was written successfully!')\n",
    "    "
   ]
  },
  {
   "cell_type": "code",
   "execution_count": 19,
   "metadata": {
    "collapsed": false
   },
   "outputs": [
    {
     "name": "stdout",
     "output_type": "stream",
     "text": [
      "code Failed due to following exception of \"must be str, not int\"\n"
     ]
    }
   ],
   "source": [
    "# Usage of exceptionType as Argument\n",
    "\n",
    "try:\n",
    "    file = open('file1','w')\n",
    "    file.write('This is a sample content')\n",
    "    'P'+10\n",
    "except TypeError as Arg:\n",
    "    print('code Failed due to following exception of \"{}\"'.format(Arg))\n",
    "else:\n",
    "    print('File content was written successfully!')"
   ]
  },
  {
   "cell_type": "code",
   "execution_count": 24,
   "metadata": {
    "collapsed": false
   },
   "outputs": [
    {
     "name": "stdout",
     "output_type": "stream",
     "text": [
      "code Failed due to following exception of \"must be str, not int\"\n"
     ]
    }
   ],
   "source": [
    "# Usage of multiple exceptionType as Argument\n",
    "\n",
    "try:\n",
    "    file = open('file1','w')\n",
    "    file.write('This is a sample content')\n",
    "    'P'+10\n",
    "except (IOError,TypeError) as Arg :\n",
    "    print('code Failed due to following exception of \"{}\"'.format(Arg))\n",
    "else:\n",
    "    print('File content was written successfully!')"
   ]
  },
  {
   "cell_type": "code",
   "execution_count": 25,
   "metadata": {
    "collapsed": false
   },
   "outputs": [
    {
     "name": "stdout",
     "output_type": "stream",
     "text": [
      "code Failed due to following exception of \"not writable\"\n"
     ]
    }
   ],
   "source": [
    "# Usage of multiple exceptionType as Argument\n",
    "\n",
    "try:\n",
    "    file = open('file1','r')\n",
    "    file.write('This is a sample content')\n",
    "    'P'+10\n",
    "except (IOError,TypeError) as Arg :\n",
    "    print('code Failed due to following exception of \"{}\"'.format(Arg))\n",
    "else:\n",
    "    print('File content was written successfully!')"
   ]
  },
  {
   "cell_type": "code",
   "execution_count": 26,
   "metadata": {
    "collapsed": false
   },
   "outputs": [],
   "source": [
    "def Employee_Expectation():\n",
    "    try:\n",
    "        new_salary = float(input('Mention the percentage hike you are expecting this year in the scale of t to 100'))\n",
    "    finally:\n",
    "        print('\\nYour new salary request is under validation')"
   ]
  },
  {
   "cell_type": "code",
   "execution_count": 27,
   "metadata": {
    "collapsed": false
   },
   "outputs": [
    {
     "name": "stdout",
     "output_type": "stream",
     "text": [
      "Mention the percentage hike you are expecting this year in the scale of t to 100five\n",
      "\n",
      "Your new salary request is under validation\n"
     ]
    },
    {
     "ename": "ValueError",
     "evalue": "could not convert string to float: 'five'",
     "output_type": "error",
     "traceback": [
      "\u001b[0;31m---------------------------------------------------------------------------\u001b[0m",
      "\u001b[0;31mValueError\u001b[0m                                Traceback (most recent call last)",
      "\u001b[0;32m<ipython-input-27-d278d0d52ce1>\u001b[0m in \u001b[0;36m<module>\u001b[0;34m()\u001b[0m\n\u001b[0;32m----> 1\u001b[0;31m \u001b[0mEmployee_Expectation\u001b[0m\u001b[1;33m(\u001b[0m\u001b[1;33m)\u001b[0m\u001b[1;33m\u001b[0m\u001b[0m\n\u001b[0m",
      "\u001b[0;32m<ipython-input-26-9b1dc922dba9>\u001b[0m in \u001b[0;36mEmployee_Expectation\u001b[0;34m()\u001b[0m\n\u001b[1;32m      1\u001b[0m \u001b[1;32mdef\u001b[0m \u001b[0mEmployee_Expectation\u001b[0m\u001b[1;33m(\u001b[0m\u001b[1;33m)\u001b[0m\u001b[1;33m:\u001b[0m\u001b[1;33m\u001b[0m\u001b[0m\n\u001b[1;32m      2\u001b[0m     \u001b[1;32mtry\u001b[0m\u001b[1;33m:\u001b[0m\u001b[1;33m\u001b[0m\u001b[0m\n\u001b[0;32m----> 3\u001b[0;31m         \u001b[0mnew_salary\u001b[0m \u001b[1;33m=\u001b[0m \u001b[0mfloat\u001b[0m\u001b[1;33m(\u001b[0m\u001b[0minput\u001b[0m\u001b[1;33m(\u001b[0m\u001b[1;34m'Mention the percentage hike you are expecting this year in the scale of t to 100'\u001b[0m\u001b[1;33m)\u001b[0m\u001b[1;33m)\u001b[0m\u001b[1;33m\u001b[0m\u001b[0m\n\u001b[0m\u001b[1;32m      4\u001b[0m     \u001b[1;32mfinally\u001b[0m\u001b[1;33m:\u001b[0m\u001b[1;33m\u001b[0m\u001b[0m\n\u001b[1;32m      5\u001b[0m         \u001b[0mprint\u001b[0m\u001b[1;33m(\u001b[0m\u001b[1;34m'\\nYour new salary request is under validation'\u001b[0m\u001b[1;33m)\u001b[0m\u001b[1;33m\u001b[0m\u001b[0m\n",
      "\u001b[0;31mValueError\u001b[0m: could not convert string to float: 'five'"
     ]
    }
   ],
   "source": [
    "Employee_Expectation()"
   ]
  },
  {
   "cell_type": "code",
   "execution_count": 34,
   "metadata": {
    "collapsed": true
   },
   "outputs": [],
   "source": [
    "def Employee_Expectation():\n",
    "    try:\n",
    "        new_salary = float(input('Mention the percentage hike you are expecting this year in the scale of t to 100'))\n",
    "    except:\n",
    "        print('\\nLooks like, the value you entered is not an integer')\n",
    "    finally:\n",
    "        print('\\nYou entered finally block')\n",
    "    print('\\nNew salary that requested for {} % increase in under consideration'.format(new_salary))"
   ]
  },
  {
   "cell_type": "code",
   "execution_count": 36,
   "metadata": {
    "collapsed": false
   },
   "outputs": [
    {
     "name": "stdout",
     "output_type": "stream",
     "text": [
      "Mention the percentage hike you are expecting this year in the scale of t to 100give\n",
      "\n",
      "Looks like, the value you entered is not an integer\n",
      "\n",
      "You entered finally block\n"
     ]
    },
    {
     "ename": "UnboundLocalError",
     "evalue": "local variable 'new_salary' referenced before assignment",
     "output_type": "error",
     "traceback": [
      "\u001b[0;31m---------------------------------------------------------------------------\u001b[0m",
      "\u001b[0;31mUnboundLocalError\u001b[0m                         Traceback (most recent call last)",
      "\u001b[0;32m<ipython-input-36-d278d0d52ce1>\u001b[0m in \u001b[0;36m<module>\u001b[0;34m()\u001b[0m\n\u001b[0;32m----> 1\u001b[0;31m \u001b[0mEmployee_Expectation\u001b[0m\u001b[1;33m(\u001b[0m\u001b[1;33m)\u001b[0m\u001b[1;33m\u001b[0m\u001b[0m\n\u001b[0m",
      "\u001b[0;32m<ipython-input-34-d043b09141a5>\u001b[0m in \u001b[0;36mEmployee_Expectation\u001b[0;34m()\u001b[0m\n\u001b[1;32m      6\u001b[0m     \u001b[1;32mfinally\u001b[0m\u001b[1;33m:\u001b[0m\u001b[1;33m\u001b[0m\u001b[0m\n\u001b[1;32m      7\u001b[0m         \u001b[0mprint\u001b[0m\u001b[1;33m(\u001b[0m\u001b[1;34m'\\nYou entered finally block'\u001b[0m\u001b[1;33m)\u001b[0m\u001b[1;33m\u001b[0m\u001b[0m\n\u001b[0;32m----> 8\u001b[0;31m     \u001b[0mprint\u001b[0m\u001b[1;33m(\u001b[0m\u001b[1;34m'\\nNew salary that requested for {} % increase in under consideration'\u001b[0m\u001b[1;33m.\u001b[0m\u001b[0mformat\u001b[0m\u001b[1;33m(\u001b[0m\u001b[0mnew_salary\u001b[0m\u001b[1;33m)\u001b[0m\u001b[1;33m)\u001b[0m\u001b[1;33m\u001b[0m\u001b[0m\n\u001b[0m",
      "\u001b[0;31mUnboundLocalError\u001b[0m: local variable 'new_salary' referenced before assignment"
     ]
    }
   ],
   "source": [
    "Employee_Expectation()"
   ]
  },
  {
   "cell_type": "code",
   "execution_count": 39,
   "metadata": {
    "collapsed": true
   },
   "outputs": [],
   "source": [
    "def Employee_Expectation():\n",
    "    try:\n",
    "        new_salary = float(input('Mention the percentage hike you are expecting this year in the scale of t to 100'))\n",
    "    except:\n",
    "        print('\\nLooks like, the value you entered is not a Number')\n",
    "        new_salary = float(input('\\nTry again- Please enter a number'))\n",
    "    finally:\n",
    "        print('\\nYou entered finally block')\n",
    "    print('\\nNew salary that requested for {} % increase in under consideration'.format(new_salary))"
   ]
  },
  {
   "cell_type": "code",
   "execution_count": 40,
   "metadata": {
    "collapsed": false
   },
   "outputs": [
    {
     "name": "stdout",
     "output_type": "stream",
     "text": [
      "Mention the percentage hike you are expecting this year in the scale of t to 100five\n",
      "\n",
      "Looks like, the value you entered is not a Number\n",
      "\n",
      "Try again- Please enter a numberfive\n",
      "\n",
      "You entered finally block\n"
     ]
    },
    {
     "ename": "ValueError",
     "evalue": "could not convert string to float: 'five'",
     "output_type": "error",
     "traceback": [
      "\u001b[0;31m---------------------------------------------------------------------------\u001b[0m",
      "\u001b[0;31mValueError\u001b[0m                                Traceback (most recent call last)",
      "\u001b[0;32m<ipython-input-39-683435ece445>\u001b[0m in \u001b[0;36mEmployee_Expectation\u001b[0;34m()\u001b[0m\n\u001b[1;32m      2\u001b[0m     \u001b[1;32mtry\u001b[0m\u001b[1;33m:\u001b[0m\u001b[1;33m\u001b[0m\u001b[0m\n\u001b[0;32m----> 3\u001b[0;31m         \u001b[0mnew_salary\u001b[0m \u001b[1;33m=\u001b[0m \u001b[0mfloat\u001b[0m\u001b[1;33m(\u001b[0m\u001b[0minput\u001b[0m\u001b[1;33m(\u001b[0m\u001b[1;34m'Mention the percentage hike you are expecting this year in the scale of t to 100'\u001b[0m\u001b[1;33m)\u001b[0m\u001b[1;33m)\u001b[0m\u001b[1;33m\u001b[0m\u001b[0m\n\u001b[0m\u001b[1;32m      4\u001b[0m     \u001b[1;32mexcept\u001b[0m\u001b[1;33m:\u001b[0m\u001b[1;33m\u001b[0m\u001b[0m\n",
      "\u001b[0;31mValueError\u001b[0m: could not convert string to float: 'five'",
      "\nDuring handling of the above exception, another exception occurred:\n",
      "\u001b[0;31mValueError\u001b[0m                                Traceback (most recent call last)",
      "\u001b[0;32m<ipython-input-40-d278d0d52ce1>\u001b[0m in \u001b[0;36m<module>\u001b[0;34m()\u001b[0m\n\u001b[0;32m----> 1\u001b[0;31m \u001b[0mEmployee_Expectation\u001b[0m\u001b[1;33m(\u001b[0m\u001b[1;33m)\u001b[0m\u001b[1;33m\u001b[0m\u001b[0m\n\u001b[0m",
      "\u001b[0;32m<ipython-input-39-683435ece445>\u001b[0m in \u001b[0;36mEmployee_Expectation\u001b[0;34m()\u001b[0m\n\u001b[1;32m      4\u001b[0m     \u001b[1;32mexcept\u001b[0m\u001b[1;33m:\u001b[0m\u001b[1;33m\u001b[0m\u001b[0m\n\u001b[1;32m      5\u001b[0m         \u001b[0mprint\u001b[0m\u001b[1;33m(\u001b[0m\u001b[1;34m'\\nLooks like, the value you entered is not a Number'\u001b[0m\u001b[1;33m)\u001b[0m\u001b[1;33m\u001b[0m\u001b[0m\n\u001b[0;32m----> 6\u001b[0;31m         \u001b[0mnew_salary\u001b[0m \u001b[1;33m=\u001b[0m \u001b[0mfloat\u001b[0m\u001b[1;33m(\u001b[0m\u001b[0minput\u001b[0m\u001b[1;33m(\u001b[0m\u001b[1;34m'\\nTry again- Please enter a number'\u001b[0m\u001b[1;33m)\u001b[0m\u001b[1;33m)\u001b[0m\u001b[1;33m\u001b[0m\u001b[0m\n\u001b[0m\u001b[1;32m      7\u001b[0m     \u001b[1;32mfinally\u001b[0m\u001b[1;33m:\u001b[0m\u001b[1;33m\u001b[0m\u001b[0m\n\u001b[1;32m      8\u001b[0m         \u001b[0mprint\u001b[0m\u001b[1;33m(\u001b[0m\u001b[1;34m'\\nYou entered finally block'\u001b[0m\u001b[1;33m)\u001b[0m\u001b[1;33m\u001b[0m\u001b[0m\n",
      "\u001b[0;31mValueError\u001b[0m: could not convert string to float: 'five'"
     ]
    }
   ],
   "source": [
    "Employee_Expectation()"
   ]
  },
  {
   "cell_type": "code",
   "execution_count": 7,
   "metadata": {
    "collapsed": true
   },
   "outputs": [],
   "source": [
    "def Employee_Expectation():\n",
    "    while True:\n",
    "        try:\n",
    "            new_salary = float(input('\\nMention the percentage hike you are expecting this year in the scale of t to 100'))\n",
    "        except:\n",
    "            print('\\nLooks like, the value you entered is not a Number')\n",
    "            continue\n",
    "        else:\n",
    "            print('\\nNew salary request of {} % hike in under consideration'.format(new_salary))\n",
    "            break\n",
    "        finally:\n",
    "            print('\\nYou are a code from finally block')"
   ]
  },
  {
   "cell_type": "code",
   "execution_count": 8,
   "metadata": {
    "collapsed": false
   },
   "outputs": [
    {
     "name": "stdout",
     "output_type": "stream",
     "text": [
      "\n",
      "Mention the percentage hike you are expecting this year in the scale of t to 100five\n",
      "\n",
      "Looks like, the value you entered is not a Number\n",
      "\n",
      "Will meet you agian! Bye\n",
      "\n",
      "Mention the percentage hike you are expecting this year in the scale of t to 100two\n",
      "\n",
      "Looks like, the value you entered is not a Number\n",
      "\n",
      "Will meet you agian! Bye\n",
      "\n",
      "Mention the percentage hike you are expecting this year in the scale of t to 10020\n",
      "\n",
      "New salary request of 20.0 % hike in under consideration\n",
      "\n",
      "Will meet you agian! Bye\n"
     ]
    }
   ],
   "source": [
    "Employee_Expectation()"
   ]
  },
  {
   "cell_type": "code",
   "execution_count": 64,
   "metadata": {
    "collapsed": true
   },
   "outputs": [],
   "source": [
    "def Employee_Expectation():\n",
    "    try:\n",
    "        new_salary = float(input('Mention the percentage hike you are expecting this year in the scale of 1 to 100: '))\n",
    "        if new_salary > 100:\n",
    "            raise Exception(new_salary)\n",
    "    except Exception as e:\n",
    "        print('\\nThe value {} is not a number in the allowed Number Scale'.format(e.args[0]))\n",
    "    else:\n",
    "        print('\\nNew salary request of {} % hike in under consideration'.format(new_salary))"
   ]
  },
  {
   "cell_type": "code",
   "execution_count": 65,
   "metadata": {
    "collapsed": false
   },
   "outputs": [
    {
     "name": "stdout",
     "output_type": "stream",
     "text": [
      "Mention the percentage hike you are expecting this year in the scale of 1 to 100: Five\n",
      "\n",
      "The value could not convert string to float: 'Five' is not a number in the allowed Number Scale\n"
     ]
    }
   ],
   "source": [
    "Employee_Expectation() # exception habdled is common for all the category of exception"
   ]
  },
  {
   "cell_type": "code",
   "execution_count": 69,
   "metadata": {
    "collapsed": true
   },
   "outputs": [],
   "source": [
    "# Create a handler to handle valueerror excplicity as shown below:\n",
    "\n",
    "def Employee_Expectation():\n",
    "    try:\n",
    "        new_salary = float(input('Mention the percentage hike you are expecting this year in the scale of 1 to 100: '))\n",
    "        if new_salary > 100:\n",
    "            raise Exception(new_salary)\n",
    "    except ValueError:\n",
    "        print('\\nThe value entered is not a Number')\n",
    "    except Exception as e:\n",
    "        print('\\nThe value {} is not an allowed number in the hike Scale'.format(e.args[0]))\n",
    "    else:\n",
    "        print('\\nNew salary request of {} % hike in under consideration'.format(new_salary))"
   ]
  },
  {
   "cell_type": "code",
   "execution_count": 67,
   "metadata": {
    "collapsed": false
   },
   "outputs": [
    {
     "name": "stdout",
     "output_type": "stream",
     "text": [
      "Mention the percentage hike you are expecting this year in the scale of 1 to 100: Five\n",
      "\n",
      "The value entered is not a Number\n"
     ]
    }
   ],
   "source": [
    "Employee_Expectation()"
   ]
  },
  {
   "cell_type": "code",
   "execution_count": 70,
   "metadata": {
    "collapsed": false
   },
   "outputs": [
    {
     "name": "stdout",
     "output_type": "stream",
     "text": [
      "Mention the percentage hike you are expecting this year in the scale of 1 to 100: 102\n",
      "\n",
      "The value 102.0 is not an allowed number in the hike Scale\n"
     ]
    }
   ],
   "source": [
    "Employee_Expectation()"
   ]
  },
  {
   "cell_type": "code",
   "execution_count": 71,
   "metadata": {
    "collapsed": false
   },
   "outputs": [
    {
     "name": "stdout",
     "output_type": "stream",
     "text": [
      "Mention the percentage hike you are expecting this year in the scale of 1 to 100: 99\n",
      "\n",
      "New salary request of 99.0 % hike in under consideration\n"
     ]
    }
   ],
   "source": [
    "Employee_Expectation()"
   ]
  }
 ],
 "metadata": {
  "kernelspec": {
   "display_name": "Python 3",
   "language": "python",
   "name": "python3"
  },
  "language_info": {
   "codemirror_mode": {
    "name": "ipython",
    "version": 3
   },
   "file_extension": ".py",
   "mimetype": "text/x-python",
   "name": "python",
   "nbconvert_exporter": "python",
   "pygments_lexer": "ipython3",
   "version": "3.6.0"
  }
 },
 "nbformat": 4,
 "nbformat_minor": 2
}
