{
 "cells": [
  {
   "cell_type": "markdown",
   "metadata": {},
   "source": [
    "### Get the twitter handle, hashtag and tweet details in input tweet\n",
    "\n",
    "In this tiny project, we are going to implement different concepts that we learnt about strings, different functions that we experimented on strings and different operations to extended and slice the string "
   ]
  },
  {
   "cell_type": "code",
   "execution_count": 2,
   "metadata": {
    "collapsed": false
   },
   "outputs": [
    {
     "name": "stdout",
     "output_type": "stream",
     "text": [
      "Enter your tweet here: public gets a response stating \"Education is the key children need to open the door to a better life\" from commissioner @EducationMinistry and continues to mention that in the coming year,we need to revolutionize #education financing to provide more opportunities for the next generation and ultimately #EndPoverty.\n"
     ]
    }
   ],
   "source": [
    "tweet_details = input('Enter your tweet here: ')"
   ]
  },
  {
   "cell_type": "markdown",
   "metadata": {},
   "source": [
    "** Get the first mentioned twitter handle alone, in this case it is \"EducationMinistry\", you can use two step approach**"
   ]
  },
  {
   "cell_type": "code",
   "execution_count": 8,
   "metadata": {
    "collapsed": false
   },
   "outputs": [
    {
     "data": {
      "text/plain": [
       "'EducationMinistry'"
      ]
     },
     "execution_count": 8,
     "metadata": {},
     "output_type": "execute_result"
    }
   ],
   "source": [
    "tweet_substring = tweet_details[tweet_details.index('@')+1:]\n",
    "twitter_handle = tweet_substring[:tweet_substring.index(' ')]\n",
    "twitter_handle"
   ]
  },
  {
   "cell_type": "markdown",
   "metadata": {},
   "source": [
    "** Get the first mentioned hashtag handle alone, in this case it is \"education\", you can use two step approach**"
   ]
  },
  {
   "cell_type": "code",
   "execution_count": 9,
   "metadata": {
    "collapsed": false
   },
   "outputs": [
    {
     "data": {
      "text/plain": [
       "'education'"
      ]
     },
     "execution_count": 9,
     "metadata": {},
     "output_type": "execute_result"
    }
   ],
   "source": [
    "tweet_substring = tweet_details[tweet_details.index('#')+1:]\n",
    "hashtag = tweet_substring[:tweet_substring.index(' ')]\n",
    "hashtag"
   ]
  },
  {
   "cell_type": "markdown",
   "metadata": {},
   "source": [
    "** Get tweet content till the first mentioned twitter handle from the original tweet and Capitalize it **"
   ]
  },
  {
   "cell_type": "code",
   "execution_count": 17,
   "metadata": {
    "collapsed": false
   },
   "outputs": [
    {
     "data": {
      "text/plain": [
       "'Public gets a response stating \"education is the key children need to open the door to a better life\" from commissioner '"
      ]
     },
     "execution_count": 17,
     "metadata": {},
     "output_type": "execute_result"
    }
   ],
   "source": [
    "tweet_substring1 = tweet_details[:tweet_details.index(twitter_handle)-1].capitalize()\n",
    "tweet_substring1"
   ]
  },
  {
   "cell_type": "markdown",
   "metadata": {},
   "source": [
    "** Get tweet content after the first mentioned twitter handle till the first mentioned hashtag from the original tweet and set first lettter of everyword in it to uppercase **"
   ]
  },
  {
   "cell_type": "code",
   "execution_count": 18,
   "metadata": {
    "collapsed": false
   },
   "outputs": [
    {
     "data": {
      "text/plain": [
       "' And Continues To Mention That In The Coming Year,We Need To Revolutionize '"
      ]
     },
     "execution_count": 18,
     "metadata": {},
     "output_type": "execute_result"
    }
   ],
   "source": [
    "tweet_substring2 = tweet_details[tweet_details.index(twitter_handle)+len(twitter_handle):tweet_details.index(hashtag)-1].title()\n",
    "tweet_substring2"
   ]
  },
  {
   "cell_type": "markdown",
   "metadata": {},
   "source": [
    "**Get tweet content after the first mentioned hashtag till the end from the original tweet and convert it to lower case**"
   ]
  },
  {
   "cell_type": "code",
   "execution_count": 19,
   "metadata": {
    "collapsed": false
   },
   "outputs": [
    {
     "data": {
      "text/plain": [
       "' financing to provide more opportunities for the next generation and ultimately #endpoverty.'"
      ]
     },
     "execution_count": 19,
     "metadata": {},
     "output_type": "execute_result"
    }
   ],
   "source": [
    "tweet_substring3 = tweet_details[tweet_details.index(hashtag)+len(hashtag):].lower()\n",
    "tweet_substring3"
   ]
  },
  {
   "cell_type": "markdown",
   "metadata": {},
   "source": [
    "** Concatenate the above generated three substrings **"
   ]
  },
  {
   "cell_type": "code",
   "execution_count": 21,
   "metadata": {
    "collapsed": true
   },
   "outputs": [],
   "source": [
    "tweet_string = tweet_substring1+tweet_substring2+tweet_substring3"
   ]
  },
  {
   "cell_type": "markdown",
   "metadata": {},
   "source": [
    "** Print the output shown below using format function **"
   ]
  },
  {
   "cell_type": "code",
   "execution_count": 23,
   "metadata": {
    "collapsed": false
   },
   "outputs": [
    {
     "name": "stdout",
     "output_type": "stream",
     "text": [
      "TWEET- \t Public gets a response stating \"education is the key children need to open the door to a better life\" from commissioner  And Continues To Mention That In The Coming Year,We Need To Revolutionize  financing to provide more opportunities for the next generation and ultimately #endpoverty. \n",
      "\n",
      " Having its first twitter handle as EducationMinistry \n",
      "and first hashtag quoted as education\n"
     ]
    }
   ],
   "source": [
    "print('TWEET- \\t {} \\n\\n Having its first twitter handle as {} \\nand first hashtag quoted as {}'.format(tweet_string,twitter_handle,hashtag))"
   ]
  },
  {
   "cell_type": "markdown",
   "metadata": {},
   "source": [
    "### Awesome ! You are done with your second tiny project on strings"
   ]
  }
 ],
 "metadata": {
  "kernelspec": {
   "display_name": "Python 3",
   "language": "python",
   "name": "python3"
  },
  "language_info": {
   "codemirror_mode": {
    "name": "ipython",
    "version": 3
   },
   "file_extension": ".py",
   "mimetype": "text/x-python",
   "name": "python",
   "nbconvert_exporter": "python",
   "pygments_lexer": "ipython3",
   "version": "3.6.0"
  }
 },
 "nbformat": 4,
 "nbformat_minor": 2
}
