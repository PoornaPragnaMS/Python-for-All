{
 "cells": [
  {
   "cell_type": "code",
   "execution_count": 1,
   "metadata": {
    "collapsed": true
   },
   "outputs": [],
   "source": [
    "name = \"Python\""
   ]
  },
  {
   "cell_type": "code",
   "execution_count": 2,
   "metadata": {
    "collapsed": false
   },
   "outputs": [
    {
     "name": "stdout",
     "output_type": "stream",
     "text": [
      "P\n",
      "y\n",
      "t\n",
      "h\n",
      "o\n",
      "n\n"
     ]
    }
   ],
   "source": [
    "# any itertable object can be used in for loop\n",
    "# In this case string is an iterable object\n",
    "# We iterate through every character of the string\n",
    "# variable char acts as an iterator and picks a new value of the character from sequence of character(String) \n",
    "   #from left to right after every loop or iteration\n",
    "# iterator can be any userdefined name and it need not be predefined\n",
    "# Indentation defines the scope of loop\n",
    "# Jupyter helps in indenting right\n",
    "\n",
    "for char in name:\n",
    "    print(char)"
   ]
  },
  {
   "cell_type": "code",
   "execution_count": 3,
   "metadata": {
    "collapsed": false
   },
   "outputs": [
    {
     "name": "stdout",
     "output_type": "stream",
     "text": [
      "P\n",
      "y\n",
      "t\n",
      "h\n",
      "o\n",
      "n\n"
     ]
    }
   ],
   "source": [
    "#Different print options\n",
    "\n",
    "# Below is by default\n",
    "for char in name:\n",
    "    print(char, end='\\n')"
   ]
  },
  {
   "cell_type": "code",
   "execution_count": 4,
   "metadata": {
    "collapsed": false
   },
   "outputs": [
    {
     "name": "stdout",
     "output_type": "stream",
     "text": [
      "P\ty\tt\th\to\tn\t"
     ]
    }
   ],
   "source": [
    "#Different print options\n",
    "\n",
    "# Having tab between 2 print statements\n",
    "for char in name:\n",
    "    print(char, end='\\t')"
   ]
  },
  {
   "cell_type": "code",
   "execution_count": 7,
   "metadata": {
    "collapsed": false
   },
   "outputs": [
    {
     "name": "stdout",
     "output_type": "stream",
     "text": [
      "Python"
     ]
    }
   ],
   "source": [
    "#Different print options\n",
    "# No character between 2 print statamenets\n",
    "\n",
    "for char in name:\n",
    "    print(char, end='')"
   ]
  },
  {
   "cell_type": "code",
   "execution_count": 10,
   "metadata": {
    "collapsed": false
   },
   "outputs": [
    {
     "name": "stdout",
     "output_type": "stream",
     "text": [
      "1, 2.0, String, True, "
     ]
    }
   ],
   "source": [
    "# Similary create a list(sequence of data objects) and try iterating them\n",
    "\n",
    "list_1 = [1,2.0,'String',True]\n",
    "for element in list_1:\n",
    "    print(element,end=', ')"
   ]
  },
  {
   "cell_type": "code",
   "execution_count": 52,
   "metadata": {
    "collapsed": false
   },
   "outputs": [
    {
     "name": "stdout",
     "output_type": "stream",
     "text": [
      "15\n"
     ]
    }
   ],
   "source": [
    "list_2 = [1,2,3,4,5]\n",
    "\n",
    "# lets try finding sum of all the numbers in list\n",
    "sum_of_num = 0\n",
    "\n",
    "for num in list_2:\n",
    "    sum_of_num += num # same as sum = sum + num\n",
    "\n",
    "print(sum_of_num)"
   ]
  },
  {
   "cell_type": "code",
   "execution_count": 55,
   "metadata": {
    "collapsed": false
   },
   "outputs": [
    {
     "name": "stdout",
     "output_type": "stream",
     "text": [
      "1, 2, Python, True, 99.2, "
     ]
    }
   ],
   "source": [
    "# We can iterate through a tuple using for loop\n",
    "\n",
    "tuple_1 = (1,2,'Python',True, 99.2)\n",
    "\n",
    "for elem in tuple_1:\n",
    "    print(elem,end=', ')"
   ]
  },
  {
   "cell_type": "code",
   "execution_count": 56,
   "metadata": {
    "collapsed": true
   },
   "outputs": [],
   "source": [
    "# Little more advanced approach on iterating through tuples placed inside a list\n",
    "\n",
    "list_of_tuples = [(10,20,30),(40,50,60),(60,80,120)]"
   ]
  },
  {
   "cell_type": "code",
   "execution_count": 59,
   "metadata": {
    "collapsed": false
   },
   "outputs": [
    {
     "name": "stdout",
     "output_type": "stream",
     "text": [
      "<class 'list'>\n",
      "<class 'tuple'>\n"
     ]
    }
   ],
   "source": [
    "print(type(list_of_tuples))\n",
    "print(type(list_of_tuples[1]))"
   ]
  },
  {
   "cell_type": "code",
   "execution_count": 62,
   "metadata": {
    "collapsed": false
   },
   "outputs": [
    {
     "data": {
      "text/plain": [
       "50"
      ]
     },
     "execution_count": 62,
     "metadata": {},
     "output_type": "execute_result"
    }
   ],
   "source": [
    "# If we want to access individual elements from tupple, this is how we generally get it\n",
    "\n",
    "list_of_tuples[1][1]"
   ]
  },
  {
   "cell_type": "code",
   "execution_count": 63,
   "metadata": {
    "collapsed": false
   },
   "outputs": [
    {
     "name": "stdout",
     "output_type": "stream",
     "text": [
      "(10, 20, 30)\n",
      "(40, 50, 60)\n",
      "(60, 80, 120)\n"
     ]
    }
   ],
   "source": [
    "# If we want to get elements/tuples in list\n",
    "\n",
    "for tuples in list_of_tuples:\n",
    "    print(tuples)"
   ]
  },
  {
   "cell_type": "code",
   "execution_count": 66,
   "metadata": {
    "collapsed": false
   },
   "outputs": [
    {
     "name": "stdout",
     "output_type": "stream",
     "text": [
      "10 20 30\n",
      "40 50 60\n",
      "60 80 120\n"
     ]
    }
   ],
   "source": [
    "# Tuple Unpacking\n",
    "# If we know the elements inside list are tuples, then we can write it this way\n",
    "\n",
    "for (item1, item2,item3) in list_of_tuples:\n",
    "    print(item1)"
   ]
  },
  {
   "cell_type": "code",
   "execution_count": 68,
   "metadata": {
    "collapsed": false
   },
   "outputs": [
    {
     "name": "stdout",
     "output_type": "stream",
     "text": [
      "20\n",
      "50\n",
      "80\n"
     ]
    }
   ],
   "source": [
    "for (item1, item2,item3) in list_of_tuples:\n",
    "    print(item2)"
   ]
  },
  {
   "cell_type": "code",
   "execution_count": 67,
   "metadata": {
    "collapsed": false
   },
   "outputs": [
    {
     "name": "stdout",
     "output_type": "stream",
     "text": [
      "10 20 30\n",
      "40 50 60\n",
      "60 80 120\n"
     ]
    }
   ],
   "source": [
    "for (item1, item2,item3) in list_of_tuples:\n",
    "    print(item1,item2,item3)"
   ]
  },
  {
   "cell_type": "code",
   "execution_count": 69,
   "metadata": {
    "collapsed": true
   },
   "outputs": [],
   "source": [
    "dictionary = {\"Name\":'John',\"Age\":25,\"Salary\":1000}"
   ]
  },
  {
   "cell_type": "code",
   "execution_count": 70,
   "metadata": {
    "collapsed": false
   },
   "outputs": [
    {
     "name": "stdout",
     "output_type": "stream",
     "text": [
      "Name\n",
      "Age\n",
      "Salary\n"
     ]
    }
   ],
   "source": [
    "# Produces only keys\n",
    "\n",
    "for item in dictionary:\n",
    "    print(item)"
   ]
  },
  {
   "cell_type": "code",
   "execution_count": 71,
   "metadata": {
    "collapsed": false
   },
   "outputs": [
    {
     "name": "stdout",
     "output_type": "stream",
     "text": [
      "Name,Age,Salary,"
     ]
    }
   ],
   "source": [
    "# Another way to get only keys from dictionary using for loops\n",
    "\n",
    "for keys in dictionary.keys():\n",
    "    print(keys,end=\",\")"
   ]
  },
  {
   "cell_type": "code",
   "execution_count": 72,
   "metadata": {
    "collapsed": false
   },
   "outputs": [
    {
     "name": "stdout",
     "output_type": "stream",
     "text": [
      "John,25,1000,"
     ]
    }
   ],
   "source": [
    "# Similaryly to get only values\n",
    "\n",
    "for keys in dictionary.values():\n",
    "    print(keys,end=\",\")"
   ]
  },
  {
   "cell_type": "code",
   "execution_count": 73,
   "metadata": {
    "collapsed": false
   },
   "outputs": [
    {
     "data": {
      "text/plain": [
       "dict_items([('Name', 'John'), ('Age', 25), ('Salary', 1000)])"
      ]
     },
     "execution_count": 73,
     "metadata": {},
     "output_type": "execute_result"
    }
   ],
   "source": [
    "# To get both keys and values, we use function called items()\n",
    "\n",
    "dictionary.items()\n",
    "\n",
    "# it generates list of tuples"
   ]
  },
  {
   "cell_type": "code",
   "execution_count": 76,
   "metadata": {
    "collapsed": false
   },
   "outputs": [
    {
     "name": "stdout",
     "output_type": "stream",
     "text": [
      "Name : John, Age : 25, Salary : 1000, "
     ]
    }
   ],
   "source": [
    "# we by now know, how to access list of tuples\n",
    "\n",
    "for (keys,values)  in dictionary.items():\n",
    "    print(keys,':',values,end=\", \")"
   ]
  },
  {
   "cell_type": "code",
   "execution_count": 87,
   "metadata": {
    "collapsed": false
   },
   "outputs": [
    {
     "name": "stdout",
     "output_type": "stream",
     "text": [
      "<class 'range'>\n",
      "range(0, 10)\n",
      "[0, 1, 2, 3, 4, 5, 6, 7, 8, 9]\n"
     ]
    }
   ],
   "source": [
    "# Using Range function\n",
    "#range(start,stop,stepsize)\n",
    "\n",
    "# 1 approach of creating range function\n",
    "\n",
    "print(type(range(10)))\n",
    "\n",
    "print(range(10))\n",
    "\n",
    "print(list(range(10)))\n",
    "\n",
    "# range(10) creates a range of numbers from 0 to 9"
   ]
  },
  {
   "cell_type": "code",
   "execution_count": 89,
   "metadata": {
    "collapsed": false
   },
   "outputs": [
    {
     "data": {
      "text/plain": [
       "[1, 3, 5, 7, 9, 11]"
      ]
     },
     "execution_count": 89,
     "metadata": {},
     "output_type": "execute_result"
    }
   ],
   "source": [
    "#2 we can explicity specificy start,end and stepsize\n",
    "# range function generates the values once for that specific execution,\n",
    "# And never stores in memory untill it is converted to another object like list\n",
    "# Thus the return type of a range() function is a generator\n",
    "\n",
    "list(range(1,12,2)) # from 1 to 12 exclusive of 12 with stepsize of 2 "
   ]
  },
  {
   "cell_type": "code",
   "execution_count": 90,
   "metadata": {
    "collapsed": false
   },
   "outputs": [
    {
     "name": "stdout",
     "output_type": "stream",
     "text": [
      "0,1,2,3,4,5,6,7,8,9,"
     ]
    }
   ],
   "source": [
    "# Usage of range function\n",
    "\n",
    "for i in range(10):\n",
    "    print(i,end=',')"
   ]
  },
  {
   "cell_type": "code",
   "execution_count": 91,
   "metadata": {
    "collapsed": false
   },
   "outputs": [
    {
     "name": "stdout",
     "output_type": "stream",
     "text": [
      "0,1,2,3,4,5,6,7,8,9,"
     ]
    }
   ],
   "source": [
    "#same as above\n",
    "\n",
    "for i in range(0,10):\n",
    "    print(i,end=',')"
   ]
  },
  {
   "cell_type": "code",
   "execution_count": 77,
   "metadata": {
    "collapsed": true
   },
   "outputs": [],
   "source": [
    "# In the last lecture, we mentioned that using for loops we can create a dictionary from two parallel lists in a better way\n",
    "# Here it is\n",
    "\n",
    "Names = [\"John\", \"James\", \"Joe\"]\n",
    "Age = [10,15,24]\n",
    "\n",
    "Details = {}\n",
    "\n",
    "for i in range(len(Names)):\n",
    "    Details[Names[i]] = Age[i]"
   ]
  },
  {
   "cell_type": "code",
   "execution_count": 78,
   "metadata": {
    "collapsed": false
   },
   "outputs": [
    {
     "data": {
      "text/plain": [
       "{'James': 15, 'Joe': 24, 'John': 10}"
      ]
     },
     "execution_count": 78,
     "metadata": {},
     "output_type": "execute_result"
    }
   ],
   "source": [
    "Details"
   ]
  },
  {
   "cell_type": "code",
   "execution_count": 92,
   "metadata": {
    "collapsed": false
   },
   "outputs": [
    {
     "name": "stdout",
     "output_type": "stream",
     "text": [
      "\n",
      "English is not a palindrome\n",
      "\n",
      "Radar is a  palindrome\n",
      "\n",
      "supercalifragilisticexpialidocious is not a palindrome\n",
      "\n",
      "Malayalam is a  palindrome\n",
      "\n",
      "Tourist is not a palindrome\n",
      "\n",
      "Racecar is a  palindrome\n",
      "\n",
      "Master is not a palindrome\n",
      "\n",
      "Level is a  palindrome\n"
     ]
    }
   ],
   "source": [
    "# Lets create a list of words and verify which word is a Palindrome\n",
    "# Palindrome is a word or sequence that reads the same backwards as forwards\n",
    "# example : Rotor --> reads same from forward(left to right) as well as from bacwards(right to left)\n",
    "\n",
    "from math import ceil\n",
    "\n",
    "words = ['English','Radar','supercalifragilisticexpialidocious','Malayalam','Tourist','Racecar','Master','Level']\n",
    "\n",
    "for word in words:\n",
    "    palindrome = True\n",
    "    for i in range(ceil(len(word)/2)):\n",
    "        if (word[i]).lower() != (word[-i-1]).lower():\n",
    "            print('\\n{} is not a palindrome'.format(word))\n",
    "            palindrome = False\n",
    "            break\n",
    "    if palindrome:\n",
    "        print('\\n{} is a  palindrome'.format(word))\n",
    "    "
   ]
  },
  {
   "cell_type": "code",
   "execution_count": null,
   "metadata": {
    "collapsed": true
   },
   "outputs": [],
   "source": []
  }
 ],
 "metadata": {
  "kernelspec": {
   "display_name": "Python 3",
   "language": "python",
   "name": "python3"
  },
  "language_info": {
   "codemirror_mode": {
    "name": "ipython",
    "version": 3
   },
   "file_extension": ".py",
   "mimetype": "text/x-python",
   "name": "python",
   "nbconvert_exporter": "python",
   "pygments_lexer": "ipython3",
   "version": "3.6.0"
  }
 },
 "nbformat": 4,
 "nbformat_minor": 2
}
