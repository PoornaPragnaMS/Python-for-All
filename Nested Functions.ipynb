{
 "cells": [
  {
   "cell_type": "code",
   "execution_count": 1,
   "metadata": {
    "collapsed": true
   },
   "outputs": [],
   "source": [
    "def know_me(name = 'John'):\n",
    "    \n",
    "    print('\\n know me() is called')\n",
    "    \n",
    "    def greet_me():\n",
    "        return '\\t hey {}, greetings for the day '.format(name)\n",
    "    \n",
    "    def welcome_me():\n",
    "        return '\\t Hey {}, welcome back !'.format(name)\n",
    "    \n",
    "    print(greet_me())\n",
    "    print(welcome_me())\n",
    "    print('We are now back to know me () function')"
   ]
  },
  {
   "cell_type": "code",
   "execution_count": 2,
   "metadata": {
    "collapsed": false
   },
   "outputs": [
    {
     "name": "stdout",
     "output_type": "stream",
     "text": [
      "\n",
      " know me() is called\n",
      "\t hey John, greetings for the day \n",
      "\t Hey John, welcome back !\n",
      "We are now back to know me () function\n"
     ]
    }
   ],
   "source": [
    "know_me()"
   ]
  },
  {
   "cell_type": "code",
   "execution_count": 3,
   "metadata": {
    "collapsed": false
   },
   "outputs": [
    {
     "ename": "NameError",
     "evalue": "name 'greet_me' is not defined",
     "output_type": "error",
     "traceback": [
      "\u001b[0;31m---------------------------------------------------------------------------\u001b[0m",
      "\u001b[0;31mNameError\u001b[0m                                 Traceback (most recent call last)",
      "\u001b[0;32m<ipython-input-3-4b0fab9cac69>\u001b[0m in \u001b[0;36m<module>\u001b[0;34m()\u001b[0m\n\u001b[0;32m----> 1\u001b[0;31m \u001b[0mgreet_me\u001b[0m\u001b[1;33m(\u001b[0m\u001b[1;33m)\u001b[0m\u001b[1;33m\u001b[0m\u001b[0m\n\u001b[0m",
      "\u001b[0;31mNameError\u001b[0m: name 'greet_me' is not defined"
     ]
    }
   ],
   "source": [
    "greet_me()"
   ]
  },
  {
   "cell_type": "code",
   "execution_count": 4,
   "metadata": {
    "collapsed": true
   },
   "outputs": [],
   "source": [
    "def know_me(name ='John'):\n",
    "    \n",
    "    def greet_me():\n",
    "        print('Hey {}, greetings for the day!'.format(name))\n",
    "        \n",
    "        \n",
    "    def welcome_me():\n",
    "        print('Hey {}, welcome back!'.format(name))\n",
    "        \n",
    "    if name == 'John':\n",
    "        return greet_me\n",
    "    else:\n",
    "        return welcome_me"
   ]
  },
  {
   "cell_type": "code",
   "execution_count": 5,
   "metadata": {
    "collapsed": false
   },
   "outputs": [
    {
     "data": {
      "text/plain": [
       "<function __main__.know_me.<locals>.greet_me>"
      ]
     },
     "execution_count": 5,
     "metadata": {},
     "output_type": "execute_result"
    }
   ],
   "source": [
    "know_me()"
   ]
  },
  {
   "cell_type": "code",
   "execution_count": 6,
   "metadata": {
    "collapsed": true
   },
   "outputs": [],
   "source": [
    "func = know_me()"
   ]
  },
  {
   "cell_type": "code",
   "execution_count": 7,
   "metadata": {
    "collapsed": false
   },
   "outputs": [
    {
     "name": "stdout",
     "output_type": "stream",
     "text": [
      "Hey John, greetings for the day!\n"
     ]
    }
   ],
   "source": [
    "func()"
   ]
  },
  {
   "cell_type": "code",
   "execution_count": 8,
   "metadata": {
    "collapsed": false
   },
   "outputs": [
    {
     "name": "stdout",
     "output_type": "stream",
     "text": [
      "Hey John, greetings for the day!\n"
     ]
    }
   ],
   "source": [
    "(know_me())()"
   ]
  },
  {
   "cell_type": "code",
   "execution_count": 14,
   "metadata": {
    "collapsed": true
   },
   "outputs": [],
   "source": [
    "def my_details(name='John'):\n",
    "    return 'Hi , {}'.format(name)\n",
    "\n",
    "def greet_foo(func):\n",
    "    print('Greeting function is invoked')\n",
    "    print(func())"
   ]
  },
  {
   "cell_type": "code",
   "execution_count": 15,
   "metadata": {
    "collapsed": false
   },
   "outputs": [
    {
     "data": {
      "text/plain": [
       "'Hi , John'"
      ]
     },
     "execution_count": 15,
     "metadata": {},
     "output_type": "execute_result"
    }
   ],
   "source": [
    "my_details()"
   ]
  },
  {
   "cell_type": "code",
   "execution_count": 16,
   "metadata": {
    "collapsed": false
   },
   "outputs": [
    {
     "name": "stdout",
     "output_type": "stream",
     "text": [
      "Greeting function is invoked\n",
      "Hi , John\n"
     ]
    }
   ],
   "source": [
    "greet_foo(my_details)"
   ]
  },
  {
   "cell_type": "code",
   "execution_count": 17,
   "metadata": {
    "collapsed": true
   },
   "outputs": [],
   "source": [
    "def my_details(name='John'):\n",
    "    return 'Hi , {}'.format(name)\n",
    "\n",
    "def greet_foo(func,name):\n",
    "    print('Greeting function is invoked')\n",
    "    print(func(name))"
   ]
  },
  {
   "cell_type": "code",
   "execution_count": 18,
   "metadata": {
    "collapsed": false
   },
   "outputs": [
    {
     "name": "stdout",
     "output_type": "stream",
     "text": [
      "Greeting function is invoked\n",
      "Hi , James\n"
     ]
    }
   ],
   "source": [
    "greet_foo(my_details,'James')"
   ]
  },
  {
   "cell_type": "code",
   "execution_count": null,
   "metadata": {
    "collapsed": true
   },
   "outputs": [],
   "source": []
  }
 ],
 "metadata": {
  "kernelspec": {
   "display_name": "Python 3",
   "language": "python",
   "name": "python3"
  },
  "language_info": {
   "codemirror_mode": {
    "name": "ipython",
    "version": 3
   },
   "file_extension": ".py",
   "mimetype": "text/x-python",
   "name": "python",
   "nbconvert_exporter": "python",
   "pygments_lexer": "ipython3",
   "version": "3.6.0"
  }
 },
 "nbformat": 4,
 "nbformat_minor": 2
}
