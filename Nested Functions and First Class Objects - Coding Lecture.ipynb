{
 "cells": [
  {
   "cell_type": "markdown",
   "metadata": {},
   "source": [
    "### Nested Functions and First Class Objects"
   ]
  },
  {
   "cell_type": "code",
   "execution_count": 11,
   "metadata": {
    "collapsed": false
   },
   "outputs": [],
   "source": [
    "# Defining Functions inside other functions\n",
    "\n",
    "def know_me(name ='AspIno'):\n",
    "    \n",
    "    print('know_me() function has been executed')\n",
    "    \n",
    "    def greet_me():\n",
    "        \n",
    "        return '\\t hey {}, Greetings for the day!'.format(name)\n",
    "    \n",
    "    def welcome_me():\n",
    "        \n",
    "        return '\\t Hey {}, Welcome back'.format(name)\n",
    "    \n",
    "    print(greet_me())\n",
    "    print(welcome_me())\n",
    "    \n",
    "    print('Now you are are back inside the know_me() function')"
   ]
  },
  {
   "cell_type": "code",
   "execution_count": 12,
   "metadata": {
    "collapsed": false
   },
   "outputs": [
    {
     "name": "stdout",
     "output_type": "stream",
     "text": [
      "know_me() function has been executed\n",
      "\t hey AspIno, Greetings for the day!\n",
      "\t Hey AspIno, Welcome back\n",
      "Now you are are back inside the know_me() function\n"
     ]
    }
   ],
   "source": [
    "know_me()"
   ]
  },
  {
   "cell_type": "code",
   "execution_count": 15,
   "metadata": {
    "collapsed": true
   },
   "outputs": [],
   "source": [
    "# functions returning other functions\n",
    "\n",
    "def know_me(name ='AspIno'):\n",
    "    \n",
    "    def greet_me():\n",
    "        \n",
    "        return '\\t hey {}, Greetings for the day!'.format(name)\n",
    "    \n",
    "    def welcome_me():\n",
    "        \n",
    "        return '\\t Hey {}, Welcome back'.format(name)\n",
    "    \n",
    "    if name == 'AspIno':\n",
    "        return greet_me\n",
    "    else:\n",
    "        return welcome_me"
   ]
  },
  {
   "cell_type": "code",
   "execution_count": 16,
   "metadata": {
    "collapsed": false
   },
   "outputs": [],
   "source": [
    "func = know_me()"
   ]
  },
  {
   "cell_type": "code",
   "execution_count": 17,
   "metadata": {
    "collapsed": false
   },
   "outputs": [
    {
     "data": {
      "text/plain": [
       "<function __main__.know_me.<locals>.greet_me>"
      ]
     },
     "execution_count": 17,
     "metadata": {},
     "output_type": "execute_result"
    }
   ],
   "source": [
    "func"
   ]
  },
  {
   "cell_type": "code",
   "execution_count": 19,
   "metadata": {
    "collapsed": false
   },
   "outputs": [
    {
     "name": "stdout",
     "output_type": "stream",
     "text": [
      "\t hey AspIno, Greetings for the day!\n"
     ]
    }
   ],
   "source": [
    "print(func())"
   ]
  },
  {
   "cell_type": "code",
   "execution_count": 62,
   "metadata": {
    "collapsed": true
   },
   "outputs": [],
   "source": [
    "# Functions can be passed as parameters/arguments to other functions\n",
    "def my_details(name):\n",
    "    return \"\\nHi! {}\".format(name)\n",
    "\n",
    "def greeting_foo(func):\n",
    "    print('\\nGreet function is invoked')\n",
    "    print(func('AspIno'))"
   ]
  },
  {
   "cell_type": "code",
   "execution_count": 63,
   "metadata": {
    "collapsed": false
   },
   "outputs": [
    {
     "data": {
      "text/plain": [
       "'\\nHi! AspIno'"
      ]
     },
     "execution_count": 63,
     "metadata": {},
     "output_type": "execute_result"
    }
   ],
   "source": [
    "my_details('AspIno')"
   ]
  },
  {
   "cell_type": "code",
   "execution_count": 64,
   "metadata": {
    "collapsed": false
   },
   "outputs": [
    {
     "ename": "TypeError",
     "evalue": "greeting_foo() missing 1 required positional argument: 'func'",
     "output_type": "error",
     "traceback": [
      "\u001b[0;31m---------------------------------------------------------------------------\u001b[0m",
      "\u001b[0;31mTypeError\u001b[0m                                 Traceback (most recent call last)",
      "\u001b[0;32m<ipython-input-64-72b747e36718>\u001b[0m in \u001b[0;36m<module>\u001b[0;34m()\u001b[0m\n\u001b[0;32m----> 1\u001b[0;31m \u001b[0mgreeting_foo\u001b[0m\u001b[1;33m(\u001b[0m\u001b[1;33m)\u001b[0m\u001b[1;33m\u001b[0m\u001b[0m\n\u001b[0m",
      "\u001b[0;31mTypeError\u001b[0m: greeting_foo() missing 1 required positional argument: 'func'"
     ]
    }
   ],
   "source": [
    "greeting_foo()"
   ]
  },
  {
   "cell_type": "code",
   "execution_count": 65,
   "metadata": {
    "collapsed": false
   },
   "outputs": [
    {
     "name": "stdout",
     "output_type": "stream",
     "text": [
      "\n",
      "Greet function is invoked\n",
      "\n",
      "Hi! AspIno\n"
     ]
    }
   ],
   "source": [
    "greeting_foo(my_details)"
   ]
  },
  {
   "cell_type": "code",
   "execution_count": 66,
   "metadata": {
    "collapsed": true
   },
   "outputs": [],
   "source": [
    "def my_details(name):\n",
    "    return \"\\nHi! {}\".format(name)\n",
    "\n",
    "def greeting_foo(func,name):\n",
    "    print('\\nGreet function is invoked')\n",
    "    print(func(name))"
   ]
  },
  {
   "cell_type": "code",
   "execution_count": 68,
   "metadata": {
    "collapsed": false
   },
   "outputs": [
    {
     "name": "stdout",
     "output_type": "stream",
     "text": [
      "\n",
      "Greet function is invoked\n",
      "\n",
      "Hi! AspIno\n"
     ]
    }
   ],
   "source": [
    "greeting_foo(my_details,'AspIno')"
   ]
  }
 ],
 "metadata": {
  "kernelspec": {
   "display_name": "Python 3",
   "language": "python",
   "name": "python3"
  },
  "language_info": {
   "codemirror_mode": {
    "name": "ipython",
    "version": 3
   },
   "file_extension": ".py",
   "mimetype": "text/x-python",
   "name": "python",
   "nbconvert_exporter": "python",
   "pygments_lexer": "ipython3",
   "version": "3.6.0"
  }
 },
 "nbformat": 4,
 "nbformat_minor": 2
}
