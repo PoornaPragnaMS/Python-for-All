{
 "cells": [
  {
   "cell_type": "markdown",
   "metadata": {},
   "source": [
    "### Decorators in Python"
   ]
  },
  {
   "cell_type": "code",
   "execution_count": 20,
   "metadata": {
    "collapsed": false
   },
   "outputs": [],
   "source": [
    "def decorator_function(func):\n",
    "    \n",
    "    def decorating_function():\n",
    "        print('Line printed before executing the decorated function')\n",
    "        \n",
    "        func()\n",
    "        \n",
    "        print('Line printed after excecuting the decorated function')\n",
    "        \n",
    "    return decorating_function      "
   ]
  },
  {
   "cell_type": "code",
   "execution_count": 26,
   "metadata": {
    "collapsed": true
   },
   "outputs": [],
   "source": [
    "def function_under_decoration():\n",
    "    print('This is a line from the base function under decoration')"
   ]
  },
  {
   "cell_type": "code",
   "execution_count": 10,
   "metadata": {
    "collapsed": false
   },
   "outputs": [
    {
     "name": "stdout",
     "output_type": "stream",
     "text": [
      "This is a line from the function under decoration\n"
     ]
    }
   ],
   "source": [
    "function_under_decoration()"
   ]
  },
  {
   "cell_type": "code",
   "execution_count": 16,
   "metadata": {
    "collapsed": false
   },
   "outputs": [],
   "source": [
    "function_under_decoration = decorator_function(function_under_decoration)"
   ]
  },
  {
   "cell_type": "code",
   "execution_count": 17,
   "metadata": {
    "collapsed": false
   },
   "outputs": [
    {
     "data": {
      "text/plain": [
       "<function __main__.decorator_function.<locals>.decorating_function>"
      ]
     },
     "execution_count": 17,
     "metadata": {},
     "output_type": "execute_result"
    }
   ],
   "source": [
    "function_under_decoration"
   ]
  },
  {
   "cell_type": "code",
   "execution_count": 18,
   "metadata": {
    "collapsed": false
   },
   "outputs": [
    {
     "name": "stdout",
     "output_type": "stream",
     "text": [
      "Line printed before executing the decorated function\n",
      "This is a line from the base function under decoration\n",
      "Line printed after excecuting the decorated function\n"
     ]
    }
   ],
   "source": [
    "function_under_decoration()"
   ]
  },
  {
   "cell_type": "code",
   "execution_count": 28,
   "metadata": {
    "collapsed": true
   },
   "outputs": [],
   "source": [
    "@decorator_function\n",
    "def function_under_decoration():\n",
    "    print('This is a line from the base function under decoration')"
   ]
  },
  {
   "cell_type": "code",
   "execution_count": 29,
   "metadata": {
    "collapsed": false
   },
   "outputs": [
    {
     "data": {
      "text/plain": [
       "<function __main__.decorator_function.<locals>.decorating_function>"
      ]
     },
     "execution_count": 29,
     "metadata": {},
     "output_type": "execute_result"
    }
   ],
   "source": [
    "function_under_decoration"
   ]
  },
  {
   "cell_type": "code",
   "execution_count": 31,
   "metadata": {
    "collapsed": false
   },
   "outputs": [
    {
     "name": "stdout",
     "output_type": "stream",
     "text": [
      "Line printed before executing the decorated function\n",
      "This is a line from the base function under decoration\n",
      "Line printed after excecuting the decorated function\n"
     ]
    }
   ],
   "source": [
    "function_under_decoration()"
   ]
  },
  {
   "cell_type": "code",
   "execution_count": 254,
   "metadata": {
    "collapsed": true
   },
   "outputs": [],
   "source": [
    "# Another example\n",
    "\n",
    "def cake_decorator(func):\n",
    "    \n",
    "    def cake_decorating_function(topins='Chocolates'):\n",
    "        func()\n",
    "        print('\\nDecoration with {} topins are done to the to the prepared Vanila cake!'.format(topins))\n",
    "        \n",
    "    return cake_decorating_function\n"
   ]
  },
  {
   "cell_type": "code",
   "execution_count": 255,
   "metadata": {
    "collapsed": true
   },
   "outputs": [],
   "source": [
    "def function_to_make_cake():\n",
    "    print('\\nVanila cake is prepared')"
   ]
  },
  {
   "cell_type": "code",
   "execution_count": 256,
   "metadata": {
    "collapsed": false
   },
   "outputs": [
    {
     "data": {
      "text/plain": [
       "<function __main__.function_to_make_cake>"
      ]
     },
     "execution_count": 256,
     "metadata": {},
     "output_type": "execute_result"
    }
   ],
   "source": [
    "function_to_make_cake"
   ]
  },
  {
   "cell_type": "code",
   "execution_count": 257,
   "metadata": {
    "collapsed": false
   },
   "outputs": [
    {
     "name": "stdout",
     "output_type": "stream",
     "text": [
      "\n",
      "Vanila cake is prepared\n"
     ]
    }
   ],
   "source": [
    "function_to_make_cake()"
   ]
  },
  {
   "cell_type": "code",
   "execution_count": 258,
   "metadata": {
    "collapsed": false
   },
   "outputs": [],
   "source": [
    "function_to_make_cake = cake_decorator(function_to_make_cake)"
   ]
  },
  {
   "cell_type": "code",
   "execution_count": 259,
   "metadata": {
    "collapsed": false
   },
   "outputs": [
    {
     "data": {
      "text/plain": [
       "<function __main__.cake_decorator.<locals>.cake_decorating_function>"
      ]
     },
     "execution_count": 259,
     "metadata": {},
     "output_type": "execute_result"
    }
   ],
   "source": [
    "function_to_make_cake"
   ]
  },
  {
   "cell_type": "code",
   "execution_count": 260,
   "metadata": {
    "collapsed": false
   },
   "outputs": [
    {
     "name": "stdout",
     "output_type": "stream",
     "text": [
      "\n",
      "Vanila cake is prepared\n",
      "\n",
      "Decoration with Almonds and Nuts topins are done to the to the prepared Vanila cake!\n"
     ]
    }
   ],
   "source": [
    "function_to_make_cake('Almonds and Nuts')"
   ]
  },
  {
   "cell_type": "code",
   "execution_count": 261,
   "metadata": {
    "collapsed": false
   },
   "outputs": [
    {
     "name": "stdout",
     "output_type": "stream",
     "text": [
      "\n",
      "Vanila cake is prepared\n",
      "\n",
      "Decoration with Chocolates and Fruits topins are done to the to the prepared Vanila cake!\n"
     ]
    }
   ],
   "source": [
    "function_to_make_cake('Chocolates and Fruits')"
   ]
  },
  {
   "cell_type": "code",
   "execution_count": 262,
   "metadata": {
    "collapsed": true
   },
   "outputs": [],
   "source": [
    "def function_to_make_cake():\n",
    "    print('\\nVanila cake is prepared')"
   ]
  },
  {
   "cell_type": "code",
   "execution_count": 263,
   "metadata": {
    "collapsed": false
   },
   "outputs": [
    {
     "data": {
      "text/plain": [
       "<function __main__.function_to_make_cake>"
      ]
     },
     "execution_count": 263,
     "metadata": {},
     "output_type": "execute_result"
    }
   ],
   "source": [
    "function_to_make_cake"
   ]
  },
  {
   "cell_type": "code",
   "execution_count": 264,
   "metadata": {
    "collapsed": false
   },
   "outputs": [],
   "source": [
    "@cake_decorator_function\n",
    "def function_to_make_cake():\n",
    "    print('\\nVanila cake is prepared')"
   ]
  },
  {
   "cell_type": "code",
   "execution_count": 265,
   "metadata": {
    "collapsed": false
   },
   "outputs": [
    {
     "data": {
      "text/plain": [
       "<function __main__.cake_decorator_function.<locals>.cake_decorator_function>"
      ]
     },
     "execution_count": 265,
     "metadata": {},
     "output_type": "execute_result"
    }
   ],
   "source": [
    "function_to_make_cake"
   ]
  },
  {
   "cell_type": "code",
   "execution_count": 266,
   "metadata": {
    "collapsed": false
   },
   "outputs": [
    {
     "name": "stdout",
     "output_type": "stream",
     "text": [
      "\n",
      "Vanila cake is prepared\n",
      "\n",
      "Decoration with Chocolates and Fruits topins are done to the to the prepared Vanila cake!\n"
     ]
    }
   ],
   "source": [
    "function_to_make_cake('Chocolates and Fruits')"
   ]
  },
  {
   "cell_type": "code",
   "execution_count": 267,
   "metadata": {
    "collapsed": false
   },
   "outputs": [
    {
     "name": "stdout",
     "output_type": "stream",
     "text": [
      "\n",
      "Vanila cake is prepared\n",
      "\n",
      "Decoration with Almonds and Nuts topins are done to the to the prepared Vanila cake!\n"
     ]
    }
   ],
   "source": [
    "function_to_make_cake('Almonds and Nuts')"
   ]
  }
 ],
 "metadata": {
  "kernelspec": {
   "display_name": "Python 3",
   "language": "python",
   "name": "python3"
  },
  "language_info": {
   "codemirror_mode": {
    "name": "ipython",
    "version": 3
   },
   "file_extension": ".py",
   "mimetype": "text/x-python",
   "name": "python",
   "nbconvert_exporter": "python",
   "pygments_lexer": "ipython3",
   "version": "3.6.0"
  }
 },
 "nbformat": 4,
 "nbformat_minor": 2
}
