{
 "cells": [
  {
   "cell_type": "markdown",
   "metadata": {},
   "source": [
    "#### Make your own GPA calculator - Solution"
   ]
  },
  {
   "cell_type": "markdown",
   "metadata": {},
   "source": [
    "** In this project, we are going to implement a GPA(Grade point Average) calculator for a sememster based on subject credit **\n",
    "**and subject grade assigned**\n",
    "\n",
    "We are going to cover the usage of defining variables with mulitple data types, typecasting the variable, decimal variables to improvise the accuracy and different arithmetic operations using random module"
   ]
  },
  {
   "cell_type": "markdown",
   "metadata": {},
   "source": [
    "** Import randint function from random module **"
   ]
  },
  {
   "cell_type": "code",
   "execution_count": 1,
   "metadata": {
    "collapsed": true
   },
   "outputs": [],
   "source": [
    "# import randint function from random module\n",
    "from random import randint"
   ]
  },
  {
   "cell_type": "markdown",
   "metadata": {},
   "source": [
    "** Use randint function from random module to generate the number of registered courses ranging between 1 and 3 **"
   ]
  },
  {
   "cell_type": "code",
   "execution_count": 5,
   "metadata": {
    "collapsed": false
   },
   "outputs": [
    {
     "data": {
      "text/plain": [
       "3"
      ]
     },
     "execution_count": 5,
     "metadata": {},
     "output_type": "execute_result"
    }
   ],
   "source": [
    "# use randint to get the number of registered courses\n",
    "num_of_registered_courses = randint(1,3)\n",
    "num_of_registered_courses"
   ]
  },
  {
   "cell_type": "markdown",
   "metadata": {},
   "source": [
    "** Assign credit value between 1 and 5 using randint for each of the courses based on the number of registered courses **"
   ]
  },
  {
   "cell_type": "code",
   "execution_count": 6,
   "metadata": {
    "collapsed": true
   },
   "outputs": [],
   "source": [
    "# Assign a credit value between 1 and 5 for each of the subjects\n",
    "credits_for_subject_1 = randint(1.0,5.0)\n",
    "credits_for_subject_2 = randint(1,5)\n",
    "credits_for_subject_3 = randint(1,5)"
   ]
  },
  {
   "cell_type": "markdown",
   "metadata": {},
   "source": [
    "** Assign grades secured for each of the subject using randrange function for each of the courses **"
   ]
  },
  {
   "cell_type": "code",
   "execution_count": 4,
   "metadata": {
    "collapsed": false
   },
   "outputs": [
    {
     "data": {
      "text/plain": [
       "5"
      ]
     },
     "execution_count": 4,
     "metadata": {},
     "output_type": "execute_result"
    }
   ],
   "source": [
    "from random import randrange\n",
    "randrange(1,10,2)"
   ]
  },
  {
   "cell_type": "code",
   "execution_count": 7,
   "metadata": {
    "collapsed": true
   },
   "outputs": [],
   "source": [
    "# Assign the grades secured by the student for each of the subjects\n",
    "grade_subject_1 = randrange(1,10,2)\n",
    "grade_subject_2 = randrange(1,10,2)\n",
    "grade_subject_3 = randrange(1,10,2)"
   ]
  },
  {
   "cell_type": "markdown",
   "metadata": {},
   "source": [
    "** Find the data types of assigned grades **"
   ]
  },
  {
   "cell_type": "code",
   "execution_count": 8,
   "metadata": {
    "collapsed": false
   },
   "outputs": [
    {
     "name": "stdout",
     "output_type": "stream",
     "text": [
      "<class 'int'>\n",
      "<class 'int'>\n",
      "<class 'int'>\n"
     ]
    }
   ],
   "source": [
    "print(type(grade_subject_1))\n",
    "print(type(grade_subject_2))\n",
    "print(type(grade_subject_3))"
   ]
  },
  {
   "cell_type": "markdown",
   "metadata": {},
   "source": [
    "** GPA(Grade Point Average) is computed using below formula:**\n",
    "    \n",
    "     GP(Grade Point) = subject_credit*subject_grade\n",
    "         Above formula is used to compute GP of all the subjects\n",
    "    \n",
    "     GPA = (sum of GP for all subjects)/(Total Credits)"
   ]
  },
  {
   "cell_type": "markdown",
   "metadata": {},
   "source": [
    "** Compute grade point for each subject by taking product of credit assigned to the subject and grade earned for subject **"
   ]
  },
  {
   "cell_type": "code",
   "execution_count": 9,
   "metadata": {
    "collapsed": false
   },
   "outputs": [],
   "source": [
    "# Compute grade point for each subject by computing the product of credit assigned to the subject and grade earned for subject\n",
    "\n",
    "gp_subject_1 = credits_for_subject_1*grade_subject_1\n",
    "gp_subject_2 = credits_for_subject_2*grade_subject_2\n",
    "gp_subject_3 = credits_for_subject_3*grade_subject_3"
   ]
  },
  {
   "cell_type": "markdown",
   "metadata": {},
   "source": [
    "** Find the data types of computed grade points **"
   ]
  },
  {
   "cell_type": "code",
   "execution_count": 10,
   "metadata": {
    "collapsed": false
   },
   "outputs": [
    {
     "name": "stdout",
     "output_type": "stream",
     "text": [
      "<class 'int'>\n",
      "<class 'int'>\n",
      "<class 'int'>\n"
     ]
    }
   ],
   "source": [
    "print(type(gp_subject_1))\n",
    "print(type(gp_subject_2))\n",
    "print(type(gp_subject_3))"
   ]
  },
  {
   "cell_type": "markdown",
   "metadata": {},
   "source": [
    "** Compute total grade points and total credits using below formula and print the result **\n",
    "\n",
    "total_grade_points = sum of grade points of individual subjects\n",
    "\n",
    "total_credits = sum of credits assigned to each subject"
   ]
  },
  {
   "cell_type": "code",
   "execution_count": 11,
   "metadata": {
    "collapsed": false
   },
   "outputs": [
    {
     "name": "stdout",
     "output_type": "stream",
     "text": [
      "17\n",
      "5\n"
     ]
    }
   ],
   "source": [
    "# compute total grade points for the semester\n",
    "# compute total credits for the semester\n",
    "\n",
    "total_gp = gp_subject_1+gp_subject_2+gp_subject_3\n",
    "total_credits = credits_for_subject_1+credits_for_subject_2+credits_for_subject_3\n",
    "print(total_gp)\n",
    "print(total_credits)"
   ]
  },
  {
   "cell_type": "markdown",
   "metadata": {},
   "source": [
    "** Compute grade point average (gpa) using below formula **\n",
    "\n",
    "gpa = total_grade_points/total_credits"
   ]
  },
  {
   "cell_type": "code",
   "execution_count": 13,
   "metadata": {
    "collapsed": false
   },
   "outputs": [],
   "source": [
    "gpa = total_gp/total_credits"
   ]
  },
  {
   "cell_type": "markdown",
   "metadata": {},
   "source": [
    "** Print the computed gpa and the type of gpa  **"
   ]
  },
  {
   "cell_type": "code",
   "execution_count": 14,
   "metadata": {
    "collapsed": false
   },
   "outputs": [
    {
     "name": "stdout",
     "output_type": "stream",
     "text": [
      "3.4\n"
     ]
    },
    {
     "data": {
      "text/plain": [
       "float"
      ]
     },
     "execution_count": 14,
     "metadata": {},
     "output_type": "execute_result"
    }
   ],
   "source": [
    "print(gpa)\n",
    "type(gpa)"
   ]
  },
  {
   "cell_type": "code",
   "execution_count": 15,
   "metadata": {
    "collapsed": false
   },
   "outputs": [
    {
     "data": {
      "text/plain": [
       "3.4"
      ]
     },
     "execution_count": 15,
     "metadata": {},
     "output_type": "execute_result"
    }
   ],
   "source": [
    "# based on need\n",
    "round(gpa,2)"
   ]
  },
  {
   "cell_type": "markdown",
   "metadata": {},
   "source": [
    "** Add a small grace value in the range of 0 to 1 to already computed grade points for each of the subjects and print the new grade points**"
   ]
  },
  {
   "cell_type": "code",
   "execution_count": 16,
   "metadata": {
    "collapsed": false
   },
   "outputs": [
    {
     "name": "stdout",
     "output_type": "stream",
     "text": [
      "4.527\n",
      "1.458\n",
      "12.395\n"
     ]
    }
   ],
   "source": [
    "gp_subject_1 = gp_subject_1+0.527\n",
    "gp_subject_2+=0.458 # same as gp_subject_2 = gp_subject_2+0.45\n",
    "gp_subject_3+=0.395\n",
    "\n",
    "print(gp_subject_1)\n",
    "print(gp_subject_2)\n",
    "print(gp_subject_3)"
   ]
  },
  {
   "cell_type": "markdown",
   "metadata": {},
   "source": [
    "** Print the type of grade points again **"
   ]
  },
  {
   "cell_type": "code",
   "execution_count": 17,
   "metadata": {
    "collapsed": false
   },
   "outputs": [
    {
     "name": "stdout",
     "output_type": "stream",
     "text": [
      "<class 'float'>\n",
      "<class 'float'>\n",
      "<class 'float'>\n"
     ]
    }
   ],
   "source": [
    "print(type(gp_subject_1))\n",
    "print(type(gp_subject_2))\n",
    "print(type(gp_subject_3))"
   ]
  },
  {
   "cell_type": "markdown",
   "metadata": {},
   "source": [
    "** Compute total grade points and total credits again and print the results **"
   ]
  },
  {
   "cell_type": "code",
   "execution_count": 18,
   "metadata": {
    "collapsed": false
   },
   "outputs": [
    {
     "name": "stdout",
     "output_type": "stream",
     "text": [
      "18.38\n",
      "5\n"
     ]
    }
   ],
   "source": [
    "total_gp = gp_subject_1+gp_subject_2+gp_subject_3\n",
    "total_credits = credits_for_subject_1+credits_for_subject_2+credits_for_subject_3\n",
    "print(total_gp)\n",
    "print(total_credits)"
   ]
  },
  {
   "cell_type": "markdown",
   "metadata": {},
   "source": [
    "**Compute grade point average (gpa) again and print the result**"
   ]
  },
  {
   "cell_type": "code",
   "execution_count": 41,
   "metadata": {
    "collapsed": false
   },
   "outputs": [
    {
     "name": "stdout",
     "output_type": "stream",
     "text": [
      "3.676\n"
     ]
    }
   ],
   "source": [
    "gpa = total_gp/total_credits\n",
    "print(gpa)"
   ]
  },
  {
   "cell_type": "code",
   "execution_count": 43,
   "metadata": {
    "collapsed": false
   },
   "outputs": [
    {
     "data": {
      "text/plain": [
       "Decimal('3.68')"
      ]
     },
     "execution_count": 43,
     "metadata": {},
     "output_type": "execute_result"
    }
   ],
   "source": [
    "round(gpa,2)"
   ]
  },
  {
   "cell_type": "markdown",
   "metadata": {},
   "source": [
    "** Remove or subtract the newly added grace value from the grade point for each of the subjects **"
   ]
  },
  {
   "cell_type": "code",
   "execution_count": 21,
   "metadata": {
    "collapsed": true
   },
   "outputs": [],
   "source": [
    "gp_subject_1 = gp_subject_1-0.527\n",
    "gp_subject_2-=0.458 # same as gp_subject_2 = gp_subject_2-0.458\n",
    "gp_subject_3-=0.395"
   ]
  },
  {
   "cell_type": "markdown",
   "metadata": {},
   "source": [
    "** Print the type of grade points for each of the subjects again  **"
   ]
  },
  {
   "cell_type": "code",
   "execution_count": 22,
   "metadata": {
    "collapsed": false
   },
   "outputs": [
    {
     "name": "stdout",
     "output_type": "stream",
     "text": [
      "<class 'float'>\n",
      "<class 'float'>\n",
      "<class 'float'>\n"
     ]
    }
   ],
   "source": [
    "print(type(gp_subject_1))\n",
    "print(type(gp_subject_2))\n",
    "print(type(gp_subject_3))"
   ]
  },
  {
   "cell_type": "markdown",
   "metadata": {},
   "source": [
    "** Import Decimal function from decimal module**"
   ]
  },
  {
   "cell_type": "code",
   "execution_count": 23,
   "metadata": {
    "collapsed": true
   },
   "outputs": [],
   "source": [
    "# import Decimal function from decimal module\n",
    "from decimal import Decimal"
   ]
  },
  {
   "cell_type": "markdown",
   "metadata": {},
   "source": [
    "** Try a sample arithmetic operation of adding floating point number and a decimal number**"
   ]
  },
  {
   "cell_type": "code",
   "execution_count": 24,
   "metadata": {
    "collapsed": false
   },
   "outputs": [
    {
     "ename": "TypeError",
     "evalue": "unsupported operand type(s) for +: 'float' and 'decimal.Decimal'",
     "output_type": "error",
     "traceback": [
      "\u001b[0;31m---------------------------------------------------------------------------\u001b[0m",
      "\u001b[0;31mTypeError\u001b[0m                                 Traceback (most recent call last)",
      "\u001b[0;32m<ipython-input-24-987fb8ed2695>\u001b[0m in \u001b[0;36m<module>\u001b[0;34m()\u001b[0m\n\u001b[1;32m      1\u001b[0m \u001b[1;31m# Add a floating point number to a decimal\u001b[0m\u001b[1;33m\u001b[0m\u001b[1;33m\u001b[0m\u001b[0m\n\u001b[1;32m      2\u001b[0m \u001b[0ma\u001b[0m\u001b[1;33m=\u001b[0m\u001b[1;36m10.0\u001b[0m\u001b[1;33m\u001b[0m\u001b[0m\n\u001b[0;32m----> 3\u001b[0;31m \u001b[0ma\u001b[0m \u001b[1;33m+\u001b[0m \u001b[0mDecimal\u001b[0m\u001b[1;33m(\u001b[0m\u001b[1;36m10.0\u001b[0m\u001b[1;33m)\u001b[0m\u001b[1;33m\u001b[0m\u001b[0m\n\u001b[0m",
      "\u001b[0;31mTypeError\u001b[0m: unsupported operand type(s) for +: 'float' and 'decimal.Decimal'"
     ]
    }
   ],
   "source": [
    "# Add a floating point number to a decimal\n",
    "a=10.0\n",
    "a + Decimal(10.0)"
   ]
  },
  {
   "cell_type": "markdown",
   "metadata": {},
   "source": [
    "** Convert the floating point number to a decimal and then perform the addition again **"
   ]
  },
  {
   "cell_type": "code",
   "execution_count": 25,
   "metadata": {
    "collapsed": false
   },
   "outputs": [
    {
     "data": {
      "text/plain": [
       "Decimal('20')"
      ]
     },
     "execution_count": 25,
     "metadata": {},
     "output_type": "execute_result"
    }
   ],
   "source": [
    "# Hence we must convert the floating point number to decimal\n",
    "Decimal(a)+Decimal(10.0)"
   ]
  },
  {
   "cell_type": "code",
   "execution_count": 27,
   "metadata": {
    "collapsed": false
   },
   "outputs": [
    {
     "ename": "NameError",
     "evalue": "name 'getcontext' is not defined",
     "output_type": "error",
     "traceback": [
      "\u001b[0;31m---------------------------------------------------------------------------\u001b[0m",
      "\u001b[0;31mNameError\u001b[0m                                 Traceback (most recent call last)",
      "\u001b[0;32m<ipython-input-27-5e77ca81ea22>\u001b[0m in \u001b[0;36m<module>\u001b[0;34m()\u001b[0m\n\u001b[0;32m----> 1\u001b[0;31m \u001b[0mgetcontext\u001b[0m\u001b[1;33m(\u001b[0m\u001b[1;33m)\u001b[0m\u001b[1;33m\u001b[0m\u001b[0m\n\u001b[0m",
      "\u001b[0;31mNameError\u001b[0m: name 'getcontext' is not defined"
     ]
    }
   ],
   "source": [
    "getcontext()"
   ]
  },
  {
   "cell_type": "markdown",
   "metadata": {},
   "source": [
    "** Import getcontext function from decimal module**"
   ]
  },
  {
   "cell_type": "code",
   "execution_count": 28,
   "metadata": {
    "collapsed": true
   },
   "outputs": [],
   "source": [
    "from decimal import getcontext"
   ]
  },
  {
   "cell_type": "code",
   "execution_count": 29,
   "metadata": {
    "collapsed": false
   },
   "outputs": [
    {
     "data": {
      "text/plain": [
       "Context(prec=28, rounding=ROUND_HALF_EVEN, Emin=-999999, Emax=999999, capitals=1, clamp=0, flags=[Inexact, FloatOperation, Rounded], traps=[InvalidOperation, DivisionByZero, Overflow])"
      ]
     },
     "execution_count": 29,
     "metadata": {},
     "output_type": "execute_result"
    }
   ],
   "source": [
    "getcontext()"
   ]
  },
  {
   "cell_type": "markdown",
   "metadata": {},
   "source": [
    "** Set the precision of the current programs context to 4 using getcontext().prec **"
   ]
  },
  {
   "cell_type": "code",
   "execution_count": 30,
   "metadata": {
    "collapsed": true
   },
   "outputs": [],
   "source": [
    "getcontext().prec = 4"
   ]
  },
  {
   "cell_type": "code",
   "execution_count": 31,
   "metadata": {
    "collapsed": false
   },
   "outputs": [
    {
     "name": "stdout",
     "output_type": "stream",
     "text": [
      "4.527\n"
     ]
    }
   ],
   "source": [
    "# compute sum of a decimal increment to gp as we did earlier, with a new precision set to the context\n",
    "print(Decimal(gp_subject_1)+Decimal(0.527))"
   ]
  },
  {
   "cell_type": "markdown",
   "metadata": {},
   "source": [
    "** Add a small grace decimal value in the range of 0 to 1 once again to the typecasted or decimal converted grade points for each of the subjects and print the new grade points**"
   ]
  },
  {
   "cell_type": "code",
   "execution_count": 32,
   "metadata": {
    "collapsed": false
   },
   "outputs": [
    {
     "name": "stdout",
     "output_type": "stream",
     "text": [
      "4.527\n",
      "1.458\n",
      "12.40\n"
     ]
    }
   ],
   "source": [
    "# Perform typecase to existing GP for subjects from float to decimal as float cant be used as an operand with Decimal for arithmetic operations\n",
    "\n",
    "gp_subject_1 = Decimal(gp_subject_1)+Decimal(0.527)\n",
    "gp_subject_2= Decimal(gp_subject_2)+Decimal(0.458) # same as gp_subject_2 = gp_subject_2+0.45\n",
    "gp_subject_3= Decimal(gp_subject_3)+Decimal(0.395)\n",
    "print(gp_subject_1)\n",
    "print(gp_subject_2)\n",
    "print(gp_subject_3)"
   ]
  },
  {
   "cell_type": "markdown",
   "metadata": {},
   "source": [
    "**Print the type of grade points again**"
   ]
  },
  {
   "cell_type": "code",
   "execution_count": 33,
   "metadata": {
    "collapsed": false
   },
   "outputs": [
    {
     "data": {
      "text/plain": [
       "decimal.Decimal"
      ]
     },
     "execution_count": 33,
     "metadata": {},
     "output_type": "execute_result"
    }
   ],
   "source": [
    "type(gp_subject_1)\n",
    "type(gp_subject_2)\n",
    "type(gp_subject_3)"
   ]
  },
  {
   "cell_type": "markdown",
   "metadata": {},
   "source": [
    "** Compute total grade points and total credits again and print the results **"
   ]
  },
  {
   "cell_type": "code",
   "execution_count": 34,
   "metadata": {
    "collapsed": false
   },
   "outputs": [
    {
     "name": "stdout",
     "output_type": "stream",
     "text": [
      "18.38\n",
      "5\n"
     ]
    }
   ],
   "source": [
    "total_gp = gp_subject_1+gp_subject_2+gp_subject_3\n",
    "total_credits = credits_for_subject_1+credits_for_subject_2+credits_for_subject_3\n",
    "print(total_gp)\n",
    "print(total_credits)"
   ]
  },
  {
   "cell_type": "markdown",
   "metadata": {},
   "source": [
    "** compute the gpa again and print the result**"
   ]
  },
  {
   "cell_type": "code",
   "execution_count": 45,
   "metadata": {
    "collapsed": false
   },
   "outputs": [
    {
     "name": "stdout",
     "output_type": "stream",
     "text": [
      "3.676\n"
     ]
    }
   ],
   "source": [
    "gpa = total_gp/total_credits\n",
    "print(gpa)"
   ]
  },
  {
   "cell_type": "markdown",
   "metadata": {},
   "source": [
    "###  Awesome ! You are done with your first tiny GPA calculator project"
   ]
  }
 ],
 "metadata": {
  "kernelspec": {
   "display_name": "Python 3",
   "language": "python",
   "name": "python3"
  },
  "language_info": {
   "codemirror_mode": {
    "name": "ipython",
    "version": 3
   },
   "file_extension": ".py",
   "mimetype": "text/x-python",
   "name": "python",
   "nbconvert_exporter": "python",
   "pygments_lexer": "ipython3",
   "version": "3.6.0"
  }
 },
 "nbformat": 4,
 "nbformat_minor": 2
}
